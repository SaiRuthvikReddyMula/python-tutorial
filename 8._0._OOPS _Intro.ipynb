{
 "cells": [
  {
   "cell_type": "markdown",
   "metadata": {},
   "source": [
    "### Credits : https://kalebujordan.com/make-your-own-music-player-in-python/"
   ]
  },
  {
   "cell_type": "markdown",
   "metadata": {},
   "source": [
    "### Spelling correction in just 1 line of code – Python"
   ]
  },
  {
   "cell_type": "code",
   "execution_count": null,
   "metadata": {},
   "outputs": [],
   "source": [
    "# !pip install textblob"
   ]
  },
  {
   "cell_type": "code",
   "execution_count": null,
   "metadata": {},
   "outputs": [],
   "source": [
    "from textblob import TextBlob\n",
    "\n",
    "def speak():\n",
    "    i=0\n",
    "    while i < 4:\n",
    "        text = input('Enter anything: ')\n",
    "        corrected_text = TextBlob(text).correct() #Text correction\n",
    "        print(str(corrected_text))\n",
    "        i+=1\n",
    "        \n",
    "speak() #calling the function "
   ]
  },
  {
   "cell_type": "markdown",
   "metadata": {},
   "source": [
    "### Speech Synthesis in Python (Text to speech)"
   ]
  },
  {
   "cell_type": "code",
   "execution_count": null,
   "metadata": {},
   "outputs": [],
   "source": [
    "# !pip install gTTS"
   ]
  },
  {
   "cell_type": "code",
   "execution_count": null,
   "metadata": {},
   "outputs": [],
   "source": [
    "from gtts import gTTS\n",
    "\n",
    "tts = gTTS('Speech synthesis using Google speech engine ')\n",
    "tts.save('music.mp3')"
   ]
  },
  {
   "cell_type": "markdown",
   "metadata": {},
   "source": [
    "### Make your own Music Player in Python"
   ]
  },
  {
   "cell_type": "code",
   "execution_count": 1,
   "metadata": {},
   "outputs": [],
   "source": [
    "# !pip install pygame"
   ]
  },
  {
   "cell_type": "markdown",
   "metadata": {},
   "source": [
    "#### Loading & Playing Music with Pygame"
   ]
  },
  {
   "cell_type": "code",
   "execution_count": 3,
   "metadata": {},
   "outputs": [],
   "source": [
    "from pygame import mixer\n",
    "\n",
    "mixer.init() #Initialzing pygame\n",
    "mixer.music.load('Audio/mahabharat.mp3') #Loading Music File\n",
    "mixer.music.play() #Playing Music with Pygame "
   ]
  },
  {
   "cell_type": "markdown",
   "metadata": {},
   "source": [
    "#### Pausing and unpausing Music with Pygame"
   ]
  },
  {
   "cell_type": "code",
   "execution_count": 4,
   "metadata": {},
   "outputs": [],
   "source": [
    "mixer.music.pause() #pausing music file "
   ]
  },
  {
   "cell_type": "code",
   "execution_count": 5,
   "metadata": {},
   "outputs": [],
   "source": [
    "mixer.music.unpause() #unpausing music file "
   ]
  },
  {
   "cell_type": "markdown",
   "metadata": {},
   "source": [
    "#### Stop a Music File"
   ]
  },
  {
   "cell_type": "code",
   "execution_count": 6,
   "metadata": {},
   "outputs": [],
   "source": [
    "mixer.music.stop()"
   ]
  },
  {
   "cell_type": "markdown",
   "metadata": {},
   "source": [
    "Let’s now Start building our Application, we will use object-oriented approach to build our application"
   ]
  },
  {
   "cell_type": "markdown",
   "metadata": {},
   "source": [
    "#### First Let us import all necessary Libray"
   ]
  },
  {
   "cell_type": "code",
   "execution_count": 10,
   "metadata": {},
   "outputs": [],
   "source": [
    "from tkinter import *\n",
    "from tkinter import filedialog\n",
    "from pygame import mixer"
   ]
  },
  {
   "cell_type": "markdown",
   "metadata": {},
   "source": [
    "#### Let’s now implement our class & Buttons for our application"
   ]
  },
  {
   "cell_type": "code",
   "execution_count": 7,
   "metadata": {},
   "outputs": [],
   "source": [
    "class MusicPlayer:\n",
    "    def __init__(self, window ):\n",
    "        window.geometry('320x100'); \n",
    "        window.title('Iris Player'); \n",
    "        window.resizable(0,0)\n",
    "        \n",
    "        Load = Button(window, text = 'Load',  width = 10, font = ('Times', 10), command = self.load)\n",
    "        Play = Button(window, text = 'Play',  width = 10,font = ('Times', 10), command = self.play)\n",
    "        Pause = Button(window,text = 'Pause',  width = 10, font = ('Times', 10), command = self.pause)\n",
    "        Stop = Button(window ,text = 'Stop',  width = 10, font = ('Times', 10), command = self.stop)\n",
    "        \n",
    "        Load.place(x=0,y=20);\n",
    "        Play.place(x=110,y=20);\n",
    "        Pause.place(x=220,y=20);\n",
    "        Stop.place(x=110,y=60)\n",
    "        \n",
    "        self.music_file = False\n",
    "        self.playing_state = False"
   ]
  },
  {
   "cell_type": "markdown",
   "metadata": {},
   "source": [
    "#### Adding Load Method to our MusicPlayer class"
   ]
  },
  {
   "cell_type": "code",
   "execution_count": null,
   "metadata": {},
   "outputs": [],
   "source": [
    "class MusicPlayer:\n",
    "    def __init__(self, window ):\n",
    "        window.geometry('320x100'); window.title('Iris Player'); window.resizable(0,0)\n",
    "        Load = Button(window, text = 'Load',  width = 10, font = ('Times', 10), command = self.load)\n",
    "        Play = Button(window, text = 'Play',  width = 10,font = ('Times', 10), command = self.play)\n",
    "        Pause = Button(window,text = 'Pause',  width = 10, font = ('Times', 10), command = self.pause)\n",
    "        Stop = Button(window ,text = 'Stop',  width = 10, font = ('Times', 10), command = self.stop)\n",
    "        Load.place(x=0,y=20);Play.place(x=110,y=20);Pause.place(x=220,y=20);Stop.place(x=110,y=60)\n",
    "        self.music_file = False\n",
    "        self.playing_state = False\n",
    "    def load(self):\n",
    "        self.music_file = filedialog.askopenfilename()"
   ]
  },
  {
   "cell_type": "markdown",
   "metadata": {},
   "source": [
    "#### Adding Play Method to our class"
   ]
  },
  {
   "cell_type": "code",
   "execution_count": null,
   "metadata": {},
   "outputs": [],
   "source": [
    "class MusicPlayer:\n",
    "    def __init__(self, window ):\n",
    "        window.geometry('320x100'); window.title('Iris Player'); window.resizable(0,0)\n",
    "        Load = Button(window, text = 'Load',  width = 10, font = ('Times', 10), command = self.load)\n",
    "        Play = Button(window, text = 'Play',  width = 10,font = ('Times', 10), command = self.play)\n",
    "        Pause = Button(window,text = 'Pause',  width = 10, font = ('Times', 10), command = self.pause)\n",
    "        Stop = Button(window ,text = 'Stop',  width = 10, font = ('Times', 10), command = self.stop)\n",
    "        Load.place(x=0,y=20);Play.place(x=110,y=20);Pause.place(x=220,y=20);Stop.place(x=110,y=60)\n",
    "        self.music_file = False\n",
    "        self.playing_state = False\n",
    "    def load(self):\n",
    "        self.music_file = filedialog.askopenfilename()\n",
    "\tdef play(self):\n",
    "        if self.music_file:\n",
    "            mixer.init()\n",
    "            mixer.music.load(self.music_file)\n",
    "            mixer.music.play()"
   ]
  },
  {
   "cell_type": "markdown",
   "metadata": {},
   "source": [
    "#### Finally Let’s add pause and stop method to our class"
   ]
  },
  {
   "cell_type": "code",
   "execution_count": 8,
   "metadata": {},
   "outputs": [],
   "source": [
    "class MusicPlayer():\n",
    "    def __init__(self, window ):\n",
    "        window.geometry('320x100'); \n",
    "        window.title('Iris Player'); \n",
    "        window.resizable(0,0)\n",
    "        Load = Button(window, text = 'Load',  width = 10, font = ('Times', 10), command = self.load)\n",
    "        Play = Button(window, text = 'Play',  width = 10,font = ('Times', 10), command = self.play)\n",
    "        Pause = Button(window,text = 'Pause',  width = 10, font = ('Times', 10), command = self.pause)\n",
    "        Stop = Button(window ,text = 'Stop',  width = 10, font = ('Times', 10), command = self.stop)\n",
    "        Load.place(x=0,y=20);Play.place(x=110,y=20);Pause.place(x=220,y=20);\n",
    "        Stop.place(x=110,y=60)\n",
    "        self.music_file = False\n",
    "        self.playing_state = False\n",
    "    def load(self):\n",
    "        self.music_file = filedialog.askopenfilename()\n",
    "    def play(self):\n",
    "        if self.music_file:\n",
    "            mixer.init()\n",
    "            mixer.music.load(self.music_file)\n",
    "            mixer.music.play()\n",
    "    def pause(self):\n",
    "        if not self.playing_state:\n",
    "            mixer.music.pause()\n",
    "            self.playing_state=True\n",
    "        else:\n",
    "            mixer.music.unpause()\n",
    "            self.playing_state = False\n",
    "    def stop(self):\n",
    "        mixer.music.stop()"
   ]
  },
  {
   "cell_type": "code",
   "execution_count": 12,
   "metadata": {},
   "outputs": [],
   "source": [
    "root = Tk()\n",
    "app= MusicPlayer(root)\n",
    "root.mainloop()"
   ]
  },
  {
   "cell_type": "code",
   "execution_count": null,
   "metadata": {},
   "outputs": [],
   "source": []
  }
 ],
 "metadata": {
  "kernelspec": {
   "display_name": "Python 3",
   "language": "python",
   "name": "python3"
  },
  "language_info": {
   "codemirror_mode": {
    "name": "ipython",
    "version": 3
   },
   "file_extension": ".py",
   "mimetype": "text/x-python",
   "name": "python",
   "nbconvert_exporter": "python",
   "pygments_lexer": "ipython3",
   "version": "3.7.7"
  }
 },
 "nbformat": 4,
 "nbformat_minor": 4
}
