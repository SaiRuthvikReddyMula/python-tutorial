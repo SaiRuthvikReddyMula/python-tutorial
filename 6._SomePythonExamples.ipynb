{
 "cells": [
  {
   "cell_type": "markdown",
   "metadata": {},
   "source": [
    "#### credits https://github.com/Tanya102"
   ]
  },
  {
   "cell_type": "markdown",
   "metadata": {},
   "source": [
    "### Password Generator"
   ]
  },
  {
   "cell_type": "code",
   "execution_count": null,
   "metadata": {},
   "outputs": [],
   "source": [
    "import random\n",
    "\n",
    "char = 'abcdefghijklmnopqrstuvwxyz1234567890!@#$%^&*()'\n",
    "\n",
    "long = int(input(\"Total Number of passwords?\"))\n",
    "\n",
    "for p in range(long):\n",
    " \n",
    "    length = int(input(\"Password Length?\"))\n",
    "\n",
    "    password = ''\n",
    "  \n",
    "    for c in range(length):\n",
    "    \n",
    "       password += random.choice(char)\n",
    "  \n",
    "    print (password)"
   ]
  },
  {
   "cell_type": "markdown",
   "metadata": {},
   "source": [
    "### Credit Card Validator"
   ]
  },
  {
   "cell_type": "code",
   "execution_count": null,
   "metadata": {},
   "outputs": [],
   "source": [
    "def check_validity(num):                                                   # this function adds every digit of the card number to a list and,\n",
    "    validlist=[]\n",
    "    for i in num:\n",
    "        validlist.append(int(i))\n",
    "    for i in range(0,len(num),2):                                             # applying Luhn Algorithm to check whether resulting sum is divisible by ten\n",
    "        validlist[i] = validlist[i] * 2\n",
    "        if validlist[i]  >= 10:\n",
    "            validlist[i] =  (validlist[i]//10 + validlist[i]%10)\n",
    "    \n",
    "    if sum(validlist)% 10 == 0:\n",
    "        print(\"This is a VALID CARD!\")\n",
    "    \n",
    "    else:\n",
    "        print('INVALID CARD NUMBER')\n",
    "\n",
    "def cardnumber():                                                                     # accepts card number as a string\n",
    "\n",
    "    n =''\n",
    "    while True:\n",
    "        try:\n",
    "            n = input('Enter your 16 digit credit card number : ')\n",
    "\n",
    "            if not (len(n) == 16) or not type(int(n) == int) :\n",
    "                raise Exception\n",
    "\n",
    "        except Exception:    \n",
    "            print('That is not a valid credit card number. \\nMake sure you are entering digits not characters and all the 16 digits.')\n",
    "            continue\n",
    "\n",
    "        else:\n",
    "            break\n",
    "\n",
    "\n",
    "    return n\n",
    "\n",
    "def goagain():\n",
    "    return input('Do you want to check again? (Yes/No) : ').lower()[0] == 'y'\n",
    "\n",
    "def main():\n",
    "\n",
    "    while True:\n",
    "\n",
    "        num = cardnumber()\n",
    "        check_validity(num)\n",
    "\n",
    "\n",
    "        if not goagain():\n",
    "            break\n",
    "\n",
    "main()"
   ]
  },
  {
   "cell_type": "markdown",
   "metadata": {},
   "source": [
    "#### Automate the boring stuff with python"
   ]
  },
  {
   "cell_type": "markdown",
   "metadata": {},
   "source": [
    "#### Strong Password Detector"
   ]
  },
  {
   "cell_type": "code",
   "execution_count": 2,
   "metadata": {},
   "outputs": [
    {
     "name": "stdout",
     "output_type": "stream",
     "text": [
      "Give a password: \n"
     ]
    },
    {
     "name": "stdin",
     "output_type": "stream",
     "text": [
      " Qwerty123\n"
     ]
    },
    {
     "name": "stdout",
     "output_type": "stream",
     "text": [
      "This password is strong: \n",
      "True\n"
     ]
    }
   ],
   "source": [
    "import re\n",
    "\n",
    "\n",
    "def is_strong(password):\n",
    "    \"\"\"\n",
    "    Function that uses regular expressions to make sure the password string it is passed is strong.\n",
    "    :param password: The password that should be checked\n",
    "    :return: True is password is strong, False otherwise\n",
    "    \"\"\"\n",
    "    # at least eight characters long\n",
    "    if len(password) < 8:\n",
    "        return False\n",
    "\n",
    "    # contains both uppercase and lowercase characters\n",
    "    upper = re.compile(r\"[A-Z]\")\n",
    "    up = upper.search(password)\n",
    "    lower = re.compile(r\"[a-z]\")\n",
    "    low = lower.search(password)\n",
    "\n",
    "    # has at least one digit\n",
    "    digit = re.compile(r'[0-9]')\n",
    "    dig = digit.search(password)\n",
    "\n",
    "    if up is None or low is None or dig is None:\n",
    "        return False\n",
    "\n",
    "    return True\n",
    "\n",
    "\n",
    "print(\"Give a password: \")\n",
    "password = input()\n",
    "print(\"This password is strong: \")\n",
    "print(is_strong(password))"
   ]
  },
  {
   "cell_type": "code",
   "execution_count": 3,
   "metadata": {},
   "outputs": [
    {
     "name": "stdout",
     "output_type": "stream",
     "text": [
      "Help on function is_strong in module __main__:\n",
      "\n",
      "is_strong(password)\n",
      "    Function that uses regular expressions to make sure the password string it is passed is strong.\n",
      "    :param password: The password that should be checked\n",
      "    :return: True is password is strong, False otherwise\n",
      "\n"
     ]
    }
   ],
   "source": [
    "help(is_strong)"
   ]
  },
  {
   "cell_type": "markdown",
   "metadata": {},
   "source": [
    "### Logging With Factorial"
   ]
  },
  {
   "cell_type": "code",
   "execution_count": 7,
   "metadata": {},
   "outputs": [
    {
     "name": "stdout",
     "output_type": "stream",
     "text": [
      "3628800\n"
     ]
    }
   ],
   "source": [
    "import logging\n",
    "\n",
    "logging.basicConfig(filename='exampleLog.txt', level=logging.DEBUG, format=' %(asctime)s - %(levelname)s - %(message)s')\n",
    "logging.debug('Start of program')\n",
    "\n",
    "def factorial(n):\n",
    "    logging.debug('Start of factorial(%s)' % (n))\n",
    "    \n",
    "    total = 1\n",
    "    \n",
    "    for i in range(1, n+1):\n",
    "        total *= i\n",
    "        logging.debug('i is ' + str(i) + ', total is ' + str(total))\n",
    "\n",
    "    \n",
    "    logging.debug('End of factorial(%s)' % (n))\n",
    "    return total\n",
    "\n",
    "print(factorial(10))\n",
    "logging.debug('End of program')"
   ]
  },
  {
   "cell_type": "code",
   "execution_count": 10,
   "metadata": {},
   "outputs": [
    {
     "data": {
      "text/plain": [
       "13"
      ]
     },
     "execution_count": 10,
     "metadata": {},
     "output_type": "execute_result"
    }
   ],
   "source": [
    "be = 8\n",
    "b = 3\n",
    "a = 'be + b + 2'\n",
    "eval(a)"
   ]
  },
  {
   "cell_type": "markdown",
   "metadata": {},
   "source": [
    "#### ReadPDF"
   ]
  },
  {
   "cell_type": "code",
   "execution_count": 14,
   "metadata": {},
   "outputs": [
    {
     "name": "stdout",
     "output_type": "stream",
     "text": [
      "OOFFFFIICCIIAALL  BBOOAARRDD  MMIINNUUTTEESS   Meeting of \n",
      "March 7\n",
      ", 2014\n",
      "        \n",
      "     The Board of Elementary and Secondary Education shall provide leadership and \n",
      "create policies for education that expand opportunities for children, empower \n",
      "families and communities, and advance Louisiana in an increasingly \n",
      "competitive glob\n",
      "al market.\n",
      " BOARD \n",
      " of ELEMENTARY\n",
      " and \n",
      " SECONDARY\n",
      " EDUCATION\n",
      "  \n"
     ]
    }
   ],
   "source": [
    "import PyPDF2\n",
    "\n",
    "pdfFileObj = open('PDF/meetingminutes.pdf', 'rb')\n",
    "\n",
    "pdfReader = PyPDF2.PdfFileReader(pdfFileObj)\n",
    "\n",
    "pdfReader.numPages\n",
    "\n",
    "pageObj = pdfReader.getPage(0)\n",
    "pageObj.extractText()\n",
    "\n",
    "print(pageObj.extractText())"
   ]
  },
  {
   "cell_type": "markdown",
   "metadata": {},
   "source": [
    "#### CombinePDF"
   ]
  },
  {
   "cell_type": "code",
   "execution_count": 15,
   "metadata": {},
   "outputs": [],
   "source": [
    "import PyPDF2, os\n",
    "\n",
    "# Get all the PDF filenames.\n",
    "pdfFiles = []\n",
    "for filename in os.listdir('PDF/'):\n",
    "    if filename.endswith('.pdf'):\n",
    "        pdfFiles.append(filename)\n",
    "pdfFiles.sort()\n",
    "\n",
    "pdfWriter = PyPDF2.PdfFileWriter()\n",
    "\n",
    "# Loop through all the PDF files.\n",
    "for filename in pdfFiles:\n",
    "    pdfFileObj = open('PDF/'+filename, 'rb')\n",
    "    pdfReader = PyPDF2.PdfFileReader(pdfFileObj)\n",
    "\n",
    "    # Loop through all the pages (except the first) and add them.\n",
    "    for pageNum in range(1, pdfReader.numPages):\n",
    "        pageObj = pdfReader.getPage(pageNum)\n",
    "        pdfWriter.addPage(pageObj)\n",
    "\n",
    "# Save the resulting PDF to a file.\n",
    "pdfOutput = open('allminutes.pdf', 'wb')\n",
    "pdfWriter.write(pdfOutput)\n",
    "pdfOutput.close()"
   ]
  },
  {
   "cell_type": "markdown",
   "metadata": {},
   "source": [
    "#### Count Down"
   ]
  },
  {
   "cell_type": "code",
   "execution_count": 16,
   "metadata": {},
   "outputs": [],
   "source": [
    "import time, subprocess\n"
   ]
  },
  {
   "cell_type": "code",
   "execution_count": 17,
   "metadata": {},
   "outputs": [
    {
     "name": "stdout",
     "output_type": "stream",
     "text": [
      "10 9 8 7 6 5 4 3 2 1 "
     ]
    },
    {
     "data": {
      "text/plain": [
       "<subprocess.Popen at 0x220a0fa3888>"
      ]
     },
     "execution_count": 17,
     "metadata": {},
     "output_type": "execute_result"
    }
   ],
   "source": [
    "timeLeft = 10\n",
    "\n",
    "while timeLeft > 0:\n",
    "    print(timeLeft, end=' ')\n",
    "    time.sleep(1)\n",
    "    timeLeft = timeLeft - 1\n",
    "    \n",
    "\n",
    "# At the end of the countdown, play a sound file.\n",
    "subprocess.Popen(['start','Audio/alarm.wav'], shell=True)"
   ]
  },
  {
   "cell_type": "code",
   "execution_count": null,
   "metadata": {},
   "outputs": [],
   "source": []
  }
 ],
 "metadata": {
  "kernelspec": {
   "display_name": "Python 3",
   "language": "python",
   "name": "python3"
  },
  "language_info": {
   "codemirror_mode": {
    "name": "ipython",
    "version": 3
   },
   "file_extension": ".py",
   "mimetype": "text/x-python",
   "name": "python",
   "nbconvert_exporter": "python",
   "pygments_lexer": "ipython3",
   "version": "3.7.7"
  }
 },
 "nbformat": 4,
 "nbformat_minor": 4
}
