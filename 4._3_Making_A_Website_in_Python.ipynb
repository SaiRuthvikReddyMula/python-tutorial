{
 "cells": [
  {
   "cell_type": "code",
   "execution_count": 7,
   "metadata": {},
   "outputs": [],
   "source": [
    "import os\n",
    "from IPython.display import HTML, display"
   ]
  },
  {
   "cell_type": "code",
   "execution_count": 8,
   "metadata": {},
   "outputs": [],
   "source": [
    "videolist = ['intro.mp4','ramanintro.mp4','neelamgunmala.mp4','jeetbhaipatel.mp4','virendertusharmallikarjun.mp4','abhilashpratiksmith.mp4', 'arun.mp4', 'suvil.mp4', 'ankita.mp4', 'laddoo.mp4','mandar.mp4']\n",
    "imagelist = [ 'patil.jpg','raman.png', 'neelam.jpg', 'jeet.jpg','mallik.jpg','abhilash.jpg', 'arun.jpg','suvil.jpg','ankita.jpg',  'laddoo.jpg', 'mandar.jpg']"
   ]
  },
  {
   "cell_type": "code",
   "execution_count": 9,
   "metadata": {},
   "outputs": [],
   "source": [
    "# videolist = os.listdir('Videos')\n",
    "# imagelist = os.listdir('Images')"
   ]
  },
  {
   "cell_type": "code",
   "execution_count": 14,
   "metadata": {},
   "outputs": [
    {
     "data": {
      "text/html": [
       "<table><tr><td><img src='Images/patil.jpg'  width=\"300\" height = \"500\"></td></tr></table>"
      ],
      "text/plain": [
       "<IPython.core.display.HTML object>"
      ]
     },
     "metadata": {},
     "output_type": "display_data"
    }
   ],
   "source": [
    "display(HTML(\"\"\"<table><tr><td><img src='Images/{}'  width=\"300\" height = \"500\"></td></tr></table>\"\"\".format('patil.jpg')))"
   ]
  },
  {
   "cell_type": "code",
   "execution_count": 15,
   "metadata": {},
   "outputs": [
    {
     "data": {
      "text/html": [
       "<table><tr><td><video alt=\"test\"  height=\"300\" controls><source src=\"Videos/rajat.mp4\" type=\"video/mp4\"></video></td></tr></table>"
      ],
      "text/plain": [
       "<IPython.core.display.HTML object>"
      ]
     },
     "metadata": {},
     "output_type": "display_data"
    }
   ],
   "source": [
    "display(HTML(\"\"\"<table><tr><td><video alt=\"test\"  height=\"300\" controls><source src=\"Videos/{}\" type=\"video/mp4\"></video></td></tr></table>\"\"\".format('rajat.mp4')))"
   ]
  },
  {
   "cell_type": "markdown",
   "metadata": {},
   "source": [
    "### for the entire code of website go to : https://constantnit.github.io/patil/"
   ]
  },
  {
   "cell_type": "code",
   "execution_count": null,
   "metadata": {},
   "outputs": [],
   "source": []
  }
 ],
 "metadata": {
  "kernelspec": {
   "display_name": "Python 3",
   "language": "python",
   "name": "python3"
  },
  "language_info": {
   "codemirror_mode": {
    "name": "ipython",
    "version": 3
   },
   "file_extension": ".py",
   "mimetype": "text/x-python",
   "name": "python",
   "nbconvert_exporter": "python",
   "pygments_lexer": "ipython3",
   "version": "3.7.6"
  }
 },
 "nbformat": 4,
 "nbformat_minor": 4
}
