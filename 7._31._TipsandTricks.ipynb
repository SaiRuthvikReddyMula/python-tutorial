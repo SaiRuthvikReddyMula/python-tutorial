{
 "cells": [
  {
   "cell_type": "markdown",
   "metadata": {},
   "source": [
    "#### Source : https://morioh.com/p/2e3eecf766fb?f=5c21fb01c16e2556b555ab32"
   ]
  },
  {
   "cell_type": "markdown",
   "metadata": {},
   "source": [
    "### 1. Python iterable tricks."
   ]
  },
  {
   "cell_type": "code",
   "execution_count": 1,
   "metadata": {},
   "outputs": [
    {
     "data": {
      "text/plain": [
       "range(0, 10, 2)"
      ]
     },
     "execution_count": 1,
     "metadata": {},
     "output_type": "execute_result"
    }
   ],
   "source": [
    "#Creating a sequence of numbers (zero to ten with skips).\n",
    "range(0,10,2)"
   ]
  },
  {
   "cell_type": "code",
   "execution_count": 3,
   "metadata": {},
   "outputs": [
    {
     "name": "stdout",
     "output_type": "stream",
     "text": [
      "[0, 2, 4, 6, 8]\n"
     ]
    }
   ],
   "source": [
    "print(list(range(0,10,2)))"
   ]
  },
  {
   "cell_type": "code",
   "execution_count": 8,
   "metadata": {},
   "outputs": [
    {
     "data": {
      "text/plain": [
       "45"
      ]
     },
     "execution_count": 8,
     "metadata": {},
     "output_type": "execute_result"
    }
   ],
   "source": [
    "#Summing a sequence of numbers (calculating the sum of zero to ten with skips).\n",
    "l = range(0,10,1)\n",
    "sum(l)"
   ]
  },
  {
   "cell_type": "code",
   "execution_count": 9,
   "metadata": {},
   "outputs": [
    {
     "data": {
      "text/plain": [
       "True"
      ]
     },
     "execution_count": 9,
     "metadata": {},
     "output_type": "execute_result"
    }
   ],
   "source": [
    "# Checking whether any element in the sequence is Truthful (checking whether any elements between zero and ten with skips are even).\n",
    "any(a % 2==0 for a in range(0,10,2))"
   ]
  },
  {
   "cell_type": "code",
   "execution_count": 10,
   "metadata": {},
   "outputs": [
    {
     "data": {
      "text/plain": [
       "[True, False, True, False, True, False, True, False, True, False]"
      ]
     },
     "execution_count": 10,
     "metadata": {},
     "output_type": "execute_result"
    }
   ],
   "source": [
    "[a % 2==0 for a in range(0,10,1)]"
   ]
  },
  {
   "cell_type": "code",
   "execution_count": 13,
   "metadata": {},
   "outputs": [
    {
     "data": {
      "text/plain": [
       "True"
      ]
     },
     "execution_count": 13,
     "metadata": {},
     "output_type": "execute_result"
    }
   ],
   "source": [
    "# Checking whether all elements in the sequence are Truthful (checking whether all elements between zero and ten with skips are even).\n",
    "all(a % 2==0 for a in range(0,10,2))"
   ]
  },
  {
   "cell_type": "code",
   "execution_count": 14,
   "metadata": {},
   "outputs": [
    {
     "data": {
      "text/plain": [
       "[0, 2, 6, 12, 20]"
      ]
     },
     "execution_count": 14,
     "metadata": {},
     "output_type": "execute_result"
    }
   ],
   "source": [
    "# Cumulative summing a sequence of numbers (calculating the cumulative sum of zero to ten with skips).\n",
    "import numpy as np\n",
    "res = list(np.cumsum(range(0,10,2)))\n",
    "res"
   ]
  },
  {
   "cell_type": "code",
   "execution_count": 15,
   "metadata": {},
   "outputs": [
    {
     "data": {
      "text/plain": [
       "[(0, 'Hello'), (1, 'world'), (2, '!')]"
      ]
     },
     "execution_count": 15,
     "metadata": {},
     "output_type": "execute_result"
    }
   ],
   "source": [
    "# Given each iterable we construct a tuple by adding an index.\n",
    "a = ['Hello', 'world', '!']\n",
    "list(enumerate(a))"
   ]
  },
  {
   "cell_type": "code",
   "execution_count": 18,
   "metadata": {},
   "outputs": [
    {
     "data": {
      "text/plain": [
       "'python really rocks'"
      ]
     },
     "execution_count": 18,
     "metadata": {},
     "output_type": "execute_result"
    }
   ],
   "source": [
    "#Concatenating iterable to a single string.\n",
    "a = [\"python\",\"really\", \"rocks\"]\n",
    "\" \".join(a)"
   ]
  },
  {
   "cell_type": "code",
   "execution_count": 21,
   "metadata": {},
   "outputs": [
    {
     "name": "stdout",
     "output_type": "stream",
     "text": [
      "[(1, 2, 3), ('a', 'b', 'c')]\n"
     ]
    }
   ],
   "source": [
    "# Combining two iterable of tuples or pivot nested iterables.\n",
    "a = [1, 2, 3]\n",
    "b = ['a', 'b', 'c']\n",
    "z = zip(a, b)\n",
    "# print(list(z))\n",
    "\n",
    "# Pivoting list of tuples\n",
    "print(list(zip(*z)))"
   ]
  },
  {
   "cell_type": "code",
   "execution_count": 23,
   "metadata": {},
   "outputs": [
    {
     "name": "stdout",
     "output_type": "stream",
     "text": [
      "2\n",
      "-3\n"
     ]
    },
    {
     "data": {
      "text/plain": [
       "-3"
      ]
     },
     "execution_count": 23,
     "metadata": {},
     "output_type": "execute_result"
    }
   ],
   "source": [
    "#Getting min/max from iterable (with/without specific function).\n",
    "a = [1, 2, -3]\n",
    "print(max(a))\n",
    "\n",
    "print(min(a))\n",
    "\n",
    "max(a,key=abs)"
   ]
  },
  {
   "cell_type": "code",
   "execution_count": 25,
   "metadata": {},
   "outputs": [
    {
     "name": "stdout",
     "output_type": "stream",
     "text": [
      "[-3, 1, 2]\n"
     ]
    },
    {
     "data": {
      "text/plain": [
       "[1, 2, -3]"
      ]
     },
     "execution_count": 25,
     "metadata": {},
     "output_type": "execute_result"
    }
   ],
   "source": [
    "# Getting sorted iterable (can sort by “compare” function).\n",
    "a = [1, 2, -3]\n",
    "print(sorted(a))\n",
    "\n",
    "sorted(a,key=abs)"
   ]
  },
  {
   "cell_type": "code",
   "execution_count": 26,
   "metadata": {},
   "outputs": [
    {
     "data": {
      "text/plain": [
       "['a', 'b', 'c']"
      ]
     },
     "execution_count": 26,
     "metadata": {},
     "output_type": "execute_result"
    }
   ],
   "source": [
    "# Splitting a single string to list.\n",
    "s = \"a,b,c\"\n",
    "s.split(\",\")"
   ]
  },
  {
   "cell_type": "code",
   "execution_count": 28,
   "metadata": {},
   "outputs": [
    {
     "data": {
      "text/plain": [
       "[1, 1, 1, 1, 1, 1, 1, 1, 1, 1]"
      ]
     },
     "execution_count": 28,
     "metadata": {},
     "output_type": "execute_result"
    }
   ],
   "source": [
    "# Initializing a list filled with some repetitive number.\n",
    "# x = [1,1,1,1,1,1,1,1,1,1]\n",
    "[1]* 10"
   ]
  },
  {
   "cell_type": "code",
   "execution_count": 29,
   "metadata": {},
   "outputs": [
    {
     "name": "stdout",
     "output_type": "stream",
     "text": [
      "['a', 'b', 'a', 'b', 'a', 'b', 'a', 'b', 'a', 'b']\n"
     ]
    }
   ],
   "source": [
    "print(['a','b']*5)"
   ]
  },
  {
   "cell_type": "code",
   "execution_count": 30,
   "metadata": {},
   "outputs": [
    {
     "data": {
      "text/plain": [
       "{'a': 1, 'b': 2, 'c': 1}"
      ]
     },
     "execution_count": 30,
     "metadata": {},
     "output_type": "execute_result"
    }
   ],
   "source": [
    "# Merging/Upserting two dictionaries.\n",
    "a = {\"a\":1, \"b\":1}\n",
    "b = {\"b\":2, \"c\":1}\n",
    "a.update(b)\n",
    "a"
   ]
  },
  {
   "cell_type": "code",
   "execution_count": 34,
   "metadata": {},
   "outputs": [
    {
     "name": "stdout",
     "output_type": "stream",
     "text": [
      "slice(-3, None, None)\n"
     ]
    },
    {
     "data": {
      "text/plain": [
       "[3, 4, 5]"
      ]
     },
     "execution_count": 34,
     "metadata": {},
     "output_type": "execute_result"
    }
   ],
   "source": [
    "# Naming and saving slices of iterables.\n",
    "a = [0, 1, 2, 3, 4, 5]\n",
    "LASTTHREE = slice(-3, None)\n",
    "print(LASTTHREE)\n",
    "\n",
    "a[LASTTHREE]"
   ]
  },
  {
   "cell_type": "code",
   "execution_count": 33,
   "metadata": {},
   "outputs": [
    {
     "data": {
      "text/plain": [
       "[3, 4]"
      ]
     },
     "execution_count": 33,
     "metadata": {},
     "output_type": "execute_result"
    }
   ],
   "source": [
    "a[-3:-1]"
   ]
  },
  {
   "cell_type": "code",
   "execution_count": 35,
   "metadata": {},
   "outputs": [
    {
     "data": {
      "text/plain": [
       "1"
      ]
     },
     "execution_count": 35,
     "metadata": {},
     "output_type": "execute_result"
    }
   ],
   "source": [
    "# Finding the index of an item in a list.\n",
    "a = [\"foo\", \"bar\", \"baz\"]\n",
    "a.index(\"bar\")"
   ]
  },
  {
   "cell_type": "code",
   "execution_count": 44,
   "metadata": {},
   "outputs": [
    {
     "data": {
      "text/plain": [
       "0"
      ]
     },
     "execution_count": 44,
     "metadata": {},
     "output_type": "execute_result"
    }
   ],
   "source": [
    "# Finding the index of the min/max item in an iterable.\n",
    "a = [1, 2, 3, 1,1]\n",
    "min(enumerate(a),key=lambda x: x[1])[0]"
   ]
  },
  {
   "cell_type": "code",
   "execution_count": 39,
   "metadata": {},
   "outputs": [
    {
     "data": {
      "text/plain": [
       "[(0, 2), (1, 3), (2, 1)]"
      ]
     },
     "execution_count": 39,
     "metadata": {},
     "output_type": "execute_result"
    }
   ],
   "source": [
    "list(enumerate(a))"
   ]
  },
  {
   "cell_type": "code",
   "execution_count": 51,
   "metadata": {},
   "outputs": [
    {
     "data": {
      "text/plain": [
       "[3, 4, 1, 2]"
      ]
     },
     "execution_count": 51,
     "metadata": {},
     "output_type": "execute_result"
    }
   ],
   "source": [
    "# Rotating iterable by k elements.\n",
    "a = [1, 2, 3, 4]\n",
    "k = 2\n",
    "a[-k:] + a[:-k]"
   ]
  },
  {
   "cell_type": "code",
   "execution_count": 48,
   "metadata": {},
   "outputs": [
    {
     "data": {
      "text/plain": [
       "[1, 2]"
      ]
     },
     "execution_count": 48,
     "metadata": {},
     "output_type": "execute_result"
    }
   ],
   "source": [
    "a[:-2]"
   ]
  },
  {
   "cell_type": "code",
   "execution_count": 54,
   "metadata": {},
   "outputs": [
    {
     "name": "stdout",
     "output_type": "stream",
     "text": [
      "George\n",
      "//George\n"
     ]
    }
   ],
   "source": [
    "# Removing useless characters on the end/start/both of your string.\n",
    "name = \"//George//\"\n",
    "print(name.strip(\"/\"))\n",
    "print(name.rstrip(\"/\"))\n",
    "print(name.lstrip(\"/\"))"
   ]
  },
  {
   "cell_type": "code",
   "execution_count": 57,
   "metadata": {},
   "outputs": [
    {
     "name": "stdout",
     "output_type": "stream",
     "text": [
      "George\n"
     ]
    }
   ],
   "source": [
    "name = \"  George  \"\n",
    "print(name.strip())"
   ]
  },
  {
   "cell_type": "code",
   "execution_count": 56,
   "metadata": {},
   "outputs": [
    {
     "data": {
      "text/plain": [
       "'  George  '"
      ]
     },
     "execution_count": 56,
     "metadata": {},
     "output_type": "execute_result"
    }
   ],
   "source": [
    "name"
   ]
  },
  {
   "cell_type": "code",
   "execution_count": null,
   "metadata": {},
   "outputs": [],
   "source": [
    "input().strip().split()"
   ]
  },
  {
   "cell_type": "code",
   "execution_count": 58,
   "metadata": {},
   "outputs": [
    {
     "name": "stdout",
     "output_type": "stream",
     "text": [
      "cba\n"
     ]
    },
    {
     "data": {
      "text/plain": [
       "['c', 'b', 'a']"
      ]
     },
     "execution_count": 58,
     "metadata": {},
     "output_type": "execute_result"
    }
   ],
   "source": [
    "# Reversing an iterable wit order (string, list etc).\n",
    "# Reversing string\n",
    "s = \"abc\"\n",
    "print(s[::-1])\n",
    "\n",
    "# Reversing list\n",
    "l = [\"a\", \"b\", \"c\"]\n",
    "l[::-1]"
   ]
  },
  {
   "cell_type": "code",
   "execution_count": 60,
   "metadata": {},
   "outputs": [],
   "source": [
    "x = tuple(['01010101010101010101010101010101'])"
   ]
  },
  {
   "cell_type": "code",
   "execution_count": 64,
   "metadata": {},
   "outputs": [],
   "source": [
    "op = x[0][:5]\n",
    "oper = x[0][5:11]\n",
    "newval = x[0][11:]"
   ]
  },
  {
   "cell_type": "code",
   "execution_count": 67,
   "metadata": {},
   "outputs": [
    {
     "data": {
      "text/plain": [
       "'101010101010101010101'"
      ]
     },
     "execution_count": 67,
     "metadata": {},
     "output_type": "execute_result"
    }
   ],
   "source": [
    "newval"
   ]
  },
  {
   "cell_type": "markdown",
   "metadata": {},
   "source": [
    "### 2. Python branching tricks"
   ]
  },
  {
   "cell_type": "code",
   "execution_count": 69,
   "metadata": {},
   "outputs": [
    {
     "name": "stdout",
     "output_type": "stream",
     "text": [
      "False\n"
     ]
    }
   ],
   "source": [
    "# Multiple predicates short-cut.\n",
    "n = 100\n",
    "print(1 < n < 20)"
   ]
  },
  {
   "cell_type": "code",
   "execution_count": 72,
   "metadata": {},
   "outputs": [
    {
     "name": "stdout",
     "output_type": "stream",
     "text": [
      "1\n",
      "2\n",
      "3\n",
      "List argument missing terminal flag.\n"
     ]
    }
   ],
   "source": [
    "# For-else construct useful when searched for something and find it.\n",
    "mylist = [1,2,3]\n",
    "theflag = 4\n",
    "for i in mylist:\n",
    "    if i == theflag:\n",
    "        break\n",
    "    print(i)\n",
    "else:\n",
    "#     raise ValueError(\"List argument missing terminal flag.\")\n",
    "    print(\"List argument missing terminal flag.\")"
   ]
  },
  {
   "cell_type": "code",
   "execution_count": 73,
   "metadata": {},
   "outputs": [
    {
     "data": {
      "text/plain": [
       "'Python ROCK'"
      ]
     },
     "execution_count": 73,
     "metadata": {},
     "output_type": "execute_result"
    }
   ],
   "source": [
    "# Ternary operator.\n",
    "condition = True\n",
    "\"Python ROCK\" if condition else \" I AM GRUMPY\""
   ]
  },
  {
   "cell_type": "code",
   "execution_count": 75,
   "metadata": {},
   "outputs": [
    {
     "name": "stdout",
     "output_type": "stream",
     "text": [
      "0\n",
      "Exception didnt occur\n",
      "Always gets here\n"
     ]
    }
   ],
   "source": [
    "# Try-catch-else construct.\n",
    "try:\n",
    "#     foo() \n",
    "    print(0)\n",
    "except Exception: \n",
    "    print(\"Exception occured\")\n",
    "else:\n",
    "    print(\"Exception didnt occur\")\n",
    "finally:\n",
    "    print(\"Always gets here\")"
   ]
  },
  {
   "cell_type": "code",
   "execution_count": 77,
   "metadata": {},
   "outputs": [
    {
     "name": "stdout",
     "output_type": "stream",
     "text": [
      "Finished up!\n"
     ]
    }
   ],
   "source": [
    "# While-else construct.\n",
    "i = -1\n",
    "\n",
    "while i > 1:\n",
    "    print(\"Whil-ing away!\")\n",
    "    i -= 1\n",
    "    if i == 3:\n",
    "        break\n",
    "else:\n",
    "    print(\"Finished up!\")"
   ]
  },
  {
   "cell_type": "markdown",
   "metadata": {},
   "source": [
    "### 3. Python comprehension tricks."
   ]
  },
  {
   "cell_type": "code",
   "execution_count": null,
   "metadata": {},
   "outputs": [],
   "source": [
    "# List comprehension.\n",
    "m = [x ** 2 for x in range(5)]\n",
    "m"
   ]
  },
  {
   "cell_type": "code",
   "execution_count": null,
   "metadata": {},
   "outputs": [],
   "source": [
    "# Set comprehension.\n",
    "m = {x ** 2 for x in range(5)}\n",
    "m"
   ]
  },
  {
   "cell_type": "code",
   "execution_count": null,
   "metadata": {},
   "outputs": [],
   "source": [
    "# Dict comprehension.\n",
    "m = {x: x ** 2 for x in range(5)}\n",
    "m"
   ]
  },
  {
   "cell_type": "code",
   "execution_count": null,
   "metadata": {},
   "outputs": [],
   "source": [
    "# Generator comprehension.\n",
    "# A generator comprehension is the lazy version of a list comprehension.\n",
    "m = (x ** 2 for x in range(5))\n",
    "m\n",
    "list(m)\n",
    "\n",
    "\n",
    "m = (x ** 2 for x in range(5))\n",
    "next(m)\n",
    "list(m)"
   ]
  },
  {
   "cell_type": "code",
   "execution_count": null,
   "metadata": {},
   "outputs": [],
   "source": [
    "# List comprehension with the current and previous value.\n",
    "a = [1, 2, 4,2]\n",
    "[y - x for x,y in zip(a,a[1:])]"
   ]
  },
  {
   "cell_type": "markdown",
   "metadata": {},
   "source": [
    "### 4.Python unpacking tricks."
   ]
  },
  {
   "cell_type": "code",
   "execution_count": null,
   "metadata": {},
   "outputs": [],
   "source": [
    "# Unpack variables from iterable.\n",
    "a, b, c = 1, 2, 3\n",
    "a, b, c\n",
    "\n",
    "a, b, c = [1, 2, 3]\n",
    "a, b, c"
   ]
  },
  {
   "cell_type": "code",
   "execution_count": null,
   "metadata": {},
   "outputs": [],
   "source": [
    "# Swap variables values.\n",
    "a, b = 1, 2\n",
    "a, b = b, a\n",
    "a, b"
   ]
  },
  {
   "cell_type": "code",
   "execution_count": null,
   "metadata": {},
   "outputs": [],
   "source": [
    "# Unpack variables from iterable without indicating all elements.\n",
    "a, *b, c = [1, 2, 3, 4, 5]\n",
    "a\n",
    "b\n",
    "c"
   ]
  },
  {
   "cell_type": "code",
   "execution_count": null,
   "metadata": {},
   "outputs": [],
   "source": [
    "# Unpack variables using the splat operator.\n",
    "def test(x, y, z):\n",
    "    print(x, y, z)  \n",
    "res = test(*[10, 20, 30]) \n",
    "res = test(**{'x': 1, 'y': 2, 'z': 3} )"
   ]
  },
  {
   "cell_type": "markdown",
   "metadata": {},
   "source": [
    "### Python itertools tricks."
   ]
  },
  {
   "cell_type": "code",
   "execution_count": null,
   "metadata": {},
   "outputs": [],
   "source": [
    "# Flatten iterables.\n",
    "import itertools\n",
    "a = [[1, 2], [3, 4], [5, 6]]\n",
    "list(itertools.chain.from_iterable(a))"
   ]
  },
  {
   "cell_type": "code",
   "execution_count": null,
   "metadata": {},
   "outputs": [],
   "source": [
    "# Creating cartesian products from iterables.\n",
    "for p in itertools.product([1, 2, 3], [4, 5]):\n",
    "    print(''.join(str(x) for x in p))"
   ]
  },
  {
   "cell_type": "code",
   "execution_count": null,
   "metadata": {},
   "outputs": [],
   "source": [
    "#Creating permutation from iterable.\n",
    "for p in itertools.permutations([1, 2, 3, 4]):\n",
    "    print(''.join(str(x) for x in p))"
   ]
  },
  {
   "cell_type": "code",
   "execution_count": null,
   "metadata": {},
   "outputs": [],
   "source": [
    "# Creating ngram from iterable.\n",
    "from itertools import islice\n",
    "def n_grams(a, n):\n",
    "    z = (islice(a, i, None) for i in range(n))\n",
    "    return zip(*z)\n",
    "\n",
    "a = [1, 2, 3, 4, 5, 6]\n",
    "n_grams(a, 3)\n",
    "n_grams(a, 2)\n",
    "n_grams(a, 4)"
   ]
  },
  {
   "cell_type": "code",
   "execution_count": null,
   "metadata": {},
   "outputs": [],
   "source": [
    "# Combining two iterables of tuples with padding or pivot nested iterable with padding.\n",
    "import itertools as it\n",
    "x = [1, 2, 3, 4, 5]\n",
    "y = ['a', 'b', 'c']\n",
    "list(zip(x, y))\n",
    "\n",
    "list(it.zip_longest(x, y))"
   ]
  },
  {
   "cell_type": "code",
   "execution_count": null,
   "metadata": {},
   "outputs": [],
   "source": [
    "# Creating a combination of k things from an iterable of n\n",
    "import itertools\n",
    "bills = [20, 20, 20, 10, 10, 10, 10, 10, 5, 5, 1, 1, 1, 1, 1]\n",
    "list(itertools.combinations(bills, 3))"
   ]
  },
  {
   "cell_type": "code",
   "execution_count": null,
   "metadata": {},
   "outputs": [],
   "source": [
    "# Creating accumulated results of iterable given a function\n",
    "import itertools\n",
    "list(itertools.accumulate([9, 21, 17, 5, 11, 12, 2, 6], min))"
   ]
  },
  {
   "cell_type": "code",
   "execution_count": null,
   "metadata": {},
   "outputs": [],
   "source": [
    "# Creating an iterator that returns elements from the iterable as long as the predicate is true\n",
    "import itertools\n",
    "itertools.takewhile(lambda x: x < 3, [0, 1, 2, 3, 4])  \n",
    "it.dropwhile(lambda x: x < 3, [0, 1, 2, 3, 4])"
   ]
  },
  {
   "cell_type": "code",
   "execution_count": null,
   "metadata": {},
   "outputs": [],
   "source": [
    "# Creating an iterator that filters elements from iterable returning only those for which the predicate is _False_\n",
    "import itertools\n",
    "# keeping only false values\n",
    "list(itertools.filterfalse(bool, [None, False, 1, 0, 10]))"
   ]
  },
  {
   "cell_type": "code",
   "execution_count": null,
   "metadata": {},
   "outputs": [],
   "source": [
    "# Creating an iterator that computes the function using arguments obtained from the iterable of iterables\n",
    "import itertools \n",
    "import operator\n",
    "a = [(2, 6), (8, 4), (7, 3)]\n",
    "list(itertools.starmap(operator.mul, a))"
   ]
  },
  {
   "cell_type": "markdown",
   "metadata": {},
   "source": [
    "### 6.Python collections tricks."
   ]
  },
  {
   "cell_type": "code",
   "execution_count": null,
   "metadata": {},
   "outputs": [],
   "source": [
    "# Set basic operations.\n",
    "A = {1, 2, 3, 3}\n",
    "A\n",
    "set([1, 2, 3])\n",
    "B = {3, 4, 5, 6, 7}\n",
    "B\n",
    "set([3, 4, 5, 6, 7])\n",
    "A | B\n",
    "set([1, 2, 3, 4, 5, 6, 7])\n",
    "A & B\n",
    "set([3])\n",
    "A - B\n",
    "set([1, 2])\n",
    "B - A\n",
    "set([4, 5, 6, 7])\n",
    "A ^ B\n",
    "set([1, 2, 4, 5, 6, 7])\n",
    "(A ^ B) == ((A - B) | (B - A))"
   ]
  },
  {
   "cell_type": "code",
   "execution_count": null,
   "metadata": {},
   "outputs": [],
   "source": [
    "# Counter data structure (an unordered collection where elements are stored as dictionary keys and their counts are stored as dictionary values).\n",
    "import collections\n",
    "\n",
    "A = collections.Counter([1, 1, 2, 2, 3, 3, 3, 3, 4, 5, 6, 7])\n",
    "A\n",
    "A.most_common(1)\n",
    "A.most_common(3)"
   ]
  },
  {
   "cell_type": "code",
   "execution_count": null,
   "metadata": {},
   "outputs": [],
   "source": [
    "# Default dictionary structure (a subclass of dictionary that retrieves default value when non-existing key getting accessed).\n",
    "import collections\n",
    "m = collections.defaultdict(int)\n",
    "m['a']\n",
    "\n",
    "m = collections.defaultdict(str)\n",
    "m['a']\n",
    "\n",
    "m['b'] += 'a'\n",
    "m['b']\n",
    "\n",
    "m = collections.defaultdict(lambda: '[default value]')\n",
    "m['a']\n",
    "\n",
    "m['b']\n",
    "\n",
    "m = collections.defaultdict(list)\n",
    "m['a']"
   ]
  },
  {
   "cell_type": "code",
   "execution_count": null,
   "metadata": {},
   "outputs": [],
   "source": [
    "# Ordered dict structure (a subclass of dictionary that keeps order).\n",
    "from collections import OrderedDict\n",
    "\n",
    "d = OrderedDict.fromkeys('abcde')\n",
    "d.move_to_end('b')\n",
    "''.join(d.keys())\n",
    "\n",
    "d.move_to_end('b', last=False)\n",
    "''.join(d.keys())"
   ]
  },
  {
   "cell_type": "code",
   "execution_count": null,
   "metadata": {},
   "outputs": [],
   "source": [
    "# Deques structure (_Deques are a generalization of stacks and queues)._\n",
    "import collections\n",
    "Q = collections.deque()\n",
    "Q.append(1)\n",
    "Q.appendleft(2)\n",
    "Q.extend([3, 4])\n",
    "Q.extendleft([5, 6])\n",
    "Q\n",
    "Q.pop()\n",
    "\n",
    "Q.popleft()\n",
    "\n",
    "Q\n",
    "Q.rotate(3)\n",
    "Q\n",
    "Q.rotate(-3) \n",
    "Q\n",
    "\n",
    "last_three = collections.deque(maxlen=3)\n",
    "for i in range(4):\n",
    "    last_three.append(i)\n",
    "    print(', '.join(str(x) for x in last_three))"
   ]
  },
  {
   "cell_type": "code",
   "execution_count": null,
   "metadata": {},
   "outputs": [],
   "source": [
    "# Named tuples structure (create tuple-like objects that have fields accessible by attribute lookup as well as being indexable and iterable).\n",
    "import collections\n",
    "Point = collections.namedtuple('Point', ['x', 'y'])\n",
    "p = Point(x=1.0, y=2.0)\n",
    "p\n",
    "Point(x=1.0, y=2.0)\n",
    "p.x\n",
    "p.y"
   ]
  },
  {
   "cell_type": "markdown",
   "metadata": {},
   "source": [
    "### 7. Python other tricks."
   ]
  },
  {
   "cell_type": "code",
   "execution_count": null,
   "metadata": {},
   "outputs": [],
   "source": [
    "# Generating uuid.\n",
    "# This creates a randomized 128-bit number that will almost certainly be unique.\n",
    "# In fact, there are over 2¹²² possible UUIDs that can be generated. That’s over five undecillion (or 5,000,000,000,000,000,000,000,000,000,000,000,000).\n",
    "import uuid\n",
    "user_id = uuid.uuid4()\n",
    "user_id "
   ]
  },
  {
   "cell_type": "code",
   "execution_count": null,
   "metadata": {},
   "outputs": [],
   "source": [
    "# Memoization using LRU cache.\n",
    "import functools\n",
    "\n",
    "@functools.lru_cache(maxsize=128)\n",
    "def fibonacci(n):\n",
    "    if n == 0:\n",
    "        return 0\n",
    "    elif n == 1:\n",
    "        return 1\n",
    "    return fibonacci(n - 1) + fibonacci(n - 2)"
   ]
  },
  {
   "cell_type": "code",
   "execution_count": null,
   "metadata": {},
   "outputs": [],
   "source": [
    "# Suppression of expressions\n",
    "from contextlib import suppress\n",
    "with suppress(ZeroDivisionError):\n",
    "    10/0"
   ]
  },
  {
   "cell_type": "code",
   "execution_count": null,
   "metadata": {},
   "outputs": [],
   "source": [
    "# An elegant way to deal with a file path (3.4≥)\n",
    "from pathlib import Path\n",
    "data_folder = Path(\"source_data/text_files/\")\n",
    "\n",
    "# Path calculation and metadata\n",
    "file_to_open = data_folder / \"raw_data.txt\"\n",
    "file_to_open.name\n",
    "\n",
    "file_to_open.suffix\n",
    "\n",
    "file_to_open.stem\n",
    "\n",
    "# Files functions                       \n",
    "f = open(file_to_open)\n",
    "f.read()\n",
    "# content of the file                      \n",
    "file_to_open.exists()"
   ]
  },
  {
   "cell_type": "code",
   "execution_count": null,
   "metadata": {},
   "outputs": [],
   "source": [
    "# Creating decorator to separate concerns\n",
    "from functools import wraps\n",
    "\n",
    "def add_sandwich(wrapped):\n",
    "    @wraps(wrapped)\n",
    "    def wrapper(*args, **kwargs):\n",
    "        return wrapped(*args, **kwargs) + ' sandwich'\n",
    "    return wrapper\n",
    "\n",
    "@add_sandwich\n",
    "def ham():\n",
    "    return 'ham'\n",
    "\n",
    "ham()"
   ]
  },
  {
   "cell_type": "code",
   "execution_count": null,
   "metadata": {},
   "outputs": [],
   "source": [
    "# Using yield to create a simple iterator\n",
    "def foo(lst):\n",
    "    for x in lst:\n",
    "        yield x\n",
    "        yield x*2\n",
    "\n",
    "a = [1, 3]\n",
    "list(foo(a))"
   ]
  },
  {
   "cell_type": "markdown",
   "metadata": {},
   "source": [
    "### Python easter eggs."
   ]
  },
  {
   "cell_type": "code",
   "execution_count": null,
   "metadata": {},
   "outputs": [],
   "source": [
    "# Anti-gravity\n",
    "import antigravity"
   ]
  },
  {
   "cell_type": "code",
   "execution_count": null,
   "metadata": {},
   "outputs": [],
   "source": [
    "# The Zen of Python\n",
    "import this"
   ]
  },
  {
   "cell_type": "code",
   "execution_count": null,
   "metadata": {},
   "outputs": [],
   "source": [
    "# List object attributes\n",
    "dir()\n",
    "\n",
    "dir(\"Hello World\")"
   ]
  },
  {
   "cell_type": "code",
   "execution_count": null,
   "metadata": {},
   "outputs": [],
   "source": []
  }
 ],
 "metadata": {
  "kernelspec": {
   "display_name": "Python 3",
   "language": "python",
   "name": "python3"
  },
  "language_info": {
   "codemirror_mode": {
    "name": "ipython",
    "version": 3
   },
   "file_extension": ".py",
   "mimetype": "text/x-python",
   "name": "python",
   "nbconvert_exporter": "python",
   "pygments_lexer": "ipython3",
   "version": "3.7.7"
  }
 },
 "nbformat": 4,
 "nbformat_minor": 4
}
