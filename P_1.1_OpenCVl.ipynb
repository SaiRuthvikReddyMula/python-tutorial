{
 "cells": [
  {
   "cell_type": "markdown",
   "metadata": {},
   "source": [
    "##### Disclaimer : Some of the codes has been referred from online but they include very basic functions. Most of the callable function\n",
    "##### have been presented from opencv documentation page and have been presented here in an interactive way.\n",
    "##### Notebook Author : Rajesh Pandit \n",
    "##### Current Position: M.Tech(Microelectronics & VLSI)"
   ]
  },
  {
   "cell_type": "markdown",
   "metadata": {},
   "source": [
    "## About Opencv"
   ]
  },
  {
   "cell_type": "markdown",
   "metadata": {},
   "source": [
    "#### OpenCV (Open Source Computer Vision Library) is an open source computer vision and machine learning software library. OpenCV was built to provide a common infrastructure for computer vision applications and to accelerate the use of machine perception in the commercial products. Being a BSD-licensed product, OpenCV makes it easy for businesses to utilize and modify the code."
   ]
  },
  {
   "cell_type": "markdown",
   "metadata": {},
   "source": [
    "### Installing Opencv \n",
    "##### pip install opencv-python"
   ]
  },
  {
   "cell_type": "markdown",
   "metadata": {},
   "source": [
    "### GUI Functions in Opencv"
   ]
  },
  {
   "cell_type": "markdown",
   "metadata": {},
   "source": [
    "#### 1. Handling Images\n",
    "#### 2. Handling Videos\n",
    "#### 3. Drawing function in Opencv\n",
    "#### 4. Mouse as a Paint-Brush\n",
    "#### 5. Trackbar as the Color Palette"
   ]
  },
  {
   "cell_type": "code",
   "execution_count": 3,
   "metadata": {},
   "outputs": [],
   "source": [
    "##### Image Handling ###########\n",
    "# 1. Read an Image\n",
    "\n",
    "import numpy as np\n",
    "import cv2\n",
    "\n",
    "img = cv2.imread('Images/Dwarka.jpg',1)  ### cv2.IMREAD_COLOR : Loads a color image. Any transparency of image will be neglected. \n",
    "                                  ###It is the default flag.\n",
    "                                  ###cv2.IMREAD_GRAYSCALE : Loads image in grayscale mode\n",
    "                                  ### cv2.IMREAD_UNCHANGED \n",
    "                                  ### Instead of flags we can pass(1 , 0 , -1)"
   ]
  },
  {
   "cell_type": "code",
   "execution_count": 5,
   "metadata": {},
   "outputs": [],
   "source": [
    "##### Image Handling ###########\n",
    "# 1. Read an Image\n",
    "\n",
    "import numpy as np\n",
    "import cv2\n",
    "\n",
    "img = cv2.imread('Images/Dwarka.jpg',1)  ### cv2.IMREAD_COLOR : Loads a color image. Any transparency of image will be neglected. \n",
    "                                  ###It is the default flag.\n",
    "                                  ###cv2.IMREAD_GRAYSCALE : Loads image in grayscale mode\n",
    "                                  ### cv2.IMREAD_UNCHANGED \n",
    "                                  ### Instead of flags we can pass(1 , 0 , -1)\n",
    "                \n",
    "cv2.namedWindow('image', cv2.WINDOW_NORMAL)   ### CV.WINDOW_NORMAL creates resizable windows, default is cv.WINDOW_AUTOSIZE\n",
    "cv2.imshow('image',img)\n",
    "cv2.waitKey(0)\n",
    "cv2.destroyAllWindows()"
   ]
  },
  {
   "cell_type": "code",
   "execution_count": 9,
   "metadata": {},
   "outputs": [],
   "source": [
    "##### Image Handling ###########\n",
    "# 1. Read an Image\n",
    "# 2. writing an image\n",
    "\n",
    "import numpy as np\n",
    "import cv2\n",
    "\n",
    "img = cv2.imread('Images/Dwarka.jpg',1)  ### cv2.IMREAD_COLOR : Loads a color image. Any transparency of image will be neglected. \n",
    "                                  ###It is the default flag.\n",
    "                                  ###cv2.IMREAD_GRAYSCALE : Loads image in grayscale mode\n",
    "                                  ### cv2.IMREAD_UNCHANGED \n",
    "                                  ### Instead of flags we can pass(1 , 0 , -1)\n",
    "                \n",
    "cv2.namedWindow('image', cv2.WINDOW_NORMAL)   ### CV.WINDOW_NORMAL creates resizable windows, default is cv.WINDOW_AUTOSIZE\n",
    "cv2.imshow('image',img)\n",
    "cv2.waitKey(0)#wait for keystrokes\n",
    "cv2.destroyAllWindows()"
   ]
  },
  {
   "cell_type": "code",
   "execution_count": 10,
   "metadata": {},
   "outputs": [],
   "source": [
    "##### Image Handling ###########\n",
    "# 1. Read an Image\n",
    "# 2. writing an image\n",
    "\n",
    "import numpy as np\n",
    "import cv2\n",
    "\n",
    "img = cv2.imread('Images/Dwarka.jpg',1)  ### cv2.IMREAD_COLOR : Loads a color image. Any transparency of image will be neglected. \n",
    "                                  ###It is the default flag.\n",
    "                                  ###cv2.IMREAD_GRAYSCALE : Loads image in grayscale mode\n",
    "                                  ### cv2.IMREAD_UNCHANGED \n",
    "                                  ### Instead of flags we can pass(1 , 0 , -1)\n",
    "                \n",
    "cv2.namedWindow('image', cv2.WINDOW_NORMAL)   ### CV.WINDOW_NORMAL creates resizable windows, default is cv.WINDOW_AUTOSIZE\n",
    "cv2.imshow('image',img)\n",
    "k = cv2.waitKey(0)#wait for keystrokes\n",
    "if k == ord('s'):\n",
    "    cv2.imwrite('SavedImage.jpg',img)\n",
    "    cv2.destroyAllWindows()\n",
    "else:\n",
    "    cv2.destroyAllWindows()"
   ]
  },
  {
   "cell_type": "markdown",
   "metadata": {},
   "source": [
    "### Reading a video file and Playing it"
   ]
  },
  {
   "cell_type": "code",
   "execution_count": 11,
   "metadata": {},
   "outputs": [],
   "source": [
    "import numpy as np\n",
    "import cv2\n",
    "\n",
    "cap = cv2.VideoCapture('Videos/video.mp4')\n",
    "\n",
    "while(cap.isOpened()):\n",
    "    ret, frame = cap.read() \n",
    "\n",
    "    #gray = cv2.cvtColor(frame, cv2.COLOR_BGR2GRAY)\n",
    "    cv2.namedWindow('frame', cv2.WINDOW_NORMAL) \n",
    "    cv2.imshow('frame',frame)\n",
    "    if cv2.waitKey(1) & 0xFF == ord('q'):\n",
    "        break\n",
    "\n",
    "cap.release()\n",
    "cv2.destroyAllWindows()\n",
    "#Make sure proper versions of ffmpeg or gstreamer is installed.\n",
    "#Sometimes, it is a headache to work with Video Capture mostly \n",
    "#due to wrong installation of ffmpeg/gstreamer."
   ]
  },
  {
   "cell_type": "markdown",
   "metadata": {},
   "source": [
    "### Capturing a picture from camera"
   ]
  },
  {
   "cell_type": "code",
   "execution_count": 13,
   "metadata": {},
   "outputs": [],
   "source": [
    "import numpy as np\n",
    "import cv2\n",
    "\n",
    "cap = cv2.VideoCapture(0)\n",
    "\n",
    "while(True):\n",
    "    # Capture frame-by-frame\n",
    "    ret, frame = cap.read()\n",
    "\n",
    "    # Our operations on the frame come here\n",
    "    #gray = cv2.cvtColor(frame, cv2.COLOR_BGR2GRAY)\n",
    "    cv2.namedWindow('frame', cv2.WINDOW_NORMAL) \n",
    "    # Display the resulting frame\n",
    "    cv2.imshow('frame',frame)\n",
    "    cv2.imwrite('webcam.jpg',frame)\n",
    "    if cv2.waitKey(1) & 0xFF == ord('q'):\n",
    "        break\n",
    "\n",
    "# When everything done, release the capture\n",
    "cap.release()\n",
    "cv2.destroyAllWindows()"
   ]
  },
  {
   "cell_type": "markdown",
   "metadata": {},
   "source": [
    "### Capturing and saving video frame by frame"
   ]
  },
  {
   "cell_type": "code",
   "execution_count": 15,
   "metadata": {},
   "outputs": [],
   "source": [
    "import numpy as np\n",
    "import cv2\n",
    "\n",
    "cap = cv2.VideoCapture(0)\n",
    "\n",
    "# Define the codec and create VideoWriter object\n",
    "fourcc = cv2.VideoWriter_fourcc(*'XVID')\n",
    "out = cv2.VideoWriter('output.avi',fourcc, 20.0, (640,480))\n",
    "\n",
    "while(cap.isOpened()):\n",
    "    ret, frame = cap.read()\n",
    "    if ret==True:\n",
    "        #frame = cv2.flip(frame,0)\n",
    "\n",
    "        # write the flipped frame\n",
    "        out.write(frame)\n",
    "\n",
    "        cv2.imshow('frame',frame)\n",
    "        if cv2.waitKey(1) & 0xFF == ord('q'):\n",
    "            break\n",
    "    else:\n",
    "        break\n",
    "\n",
    "# Release everything if job is finished\n",
    "cap.release()\n",
    "out.release()\n",
    "cv2.destroyAllWindows()"
   ]
  },
  {
   "cell_type": "markdown",
   "metadata": {},
   "source": [
    "#### Drawing with opencv"
   ]
  },
  {
   "cell_type": "code",
   "execution_count": 16,
   "metadata": {},
   "outputs": [],
   "source": [
    "import numpy as np\n",
    "import cv2\n",
    "\n",
    "# Create a black image\n",
    "img = np.zeros((512,512,3), np.uint8)\n",
    "\n",
    "#Draw a diagonal blue line with thickness of 5 px\n",
    "img = cv2.line(img,(0,0),(511,511),(255,0,0),5)  #starting , ending and width of line\n",
    "img = cv2.rectangle(img,(0,0),(400,400),(0,255,0),10) ##  top-left corner and bottom-right corner of rectangle.\n",
    "img = cv2.circle(img,(250,250), 63, (0,0,255), -1)  ## coordiate of center and radius\n",
    "# img = cv2.ellipse(img,(256,256),(100,50),0,0,180,255,-1)\n",
    "# pts = np.array([[10,5],[20,30],[70,20],[50,10]], np.int32)\n",
    "# pts = pts.reshape((-1,1,2))\n",
    "# img = cv2.polylines(img,[pts],True,(0,255,255))\n",
    "# font = cv2.FONT_HERSHEY_SIMPLEX \n",
    "# cv2.putText(img,'OpenCV',(10,500), font, 4,(255,255,255),2,cv2.LINE_AA)\n",
    "cv2.namedWindow('image', cv2.WINDOW_NORMAL)   ### CV.WINDOW_NORMAL creates resizable windows, default is cv.WINDOW_AUTOSIZE\n",
    "cv2.imshow('image',img)\n",
    "k = cv2.waitKey(0)#wait for keystrokes\n",
    "if k == ord('s'):\n",
    "    cv2.imwrite('SavedImage.jpg',img)\n",
    "    cv2.destroyAllWindows()\n",
    "else:\n",
    "    cv2.destroyAllWindows()"
   ]
  },
  {
   "cell_type": "markdown",
   "metadata": {},
   "source": [
    "### Mouse functions"
   ]
  },
  {
   "cell_type": "code",
   "execution_count": null,
   "metadata": {},
   "outputs": [],
   "source": [
    "import cv2\n",
    "import numpy as np\n",
    "\n",
    "# mouse callback function\n",
    "def draw_circle(event,x,y,flags,param):\n",
    "    if event == cv2.EVENT_LBUTTONDBLCLK:\n",
    "        cv2.circle(img,(x,y),100,(255,0,0),-1)\n",
    "\n",
    "# Create a black image, a window and bind the function to window\n",
    "img = np.zeros((512,512,3), np.uint8)\n",
    "cv2.namedWindow('image',cv2.WINDOW_NORMAL)\n",
    "cv2.setMouseCallback('image',draw_circle)\n",
    "\n",
    "while(1):\n",
    "    cv2.imshow('image',img)\n",
    "    if cv2.waitKey(20) & 0xFF == 27:\n",
    "        break\n",
    "cv2.destroyAllWindows()"
   ]
  },
  {
   "cell_type": "markdown",
   "metadata": {},
   "source": [
    "### Core Operations"
   ]
  },
  {
   "cell_type": "code",
   "execution_count": 34,
   "metadata": {},
   "outputs": [],
   "source": [
    "## Accessing Pixel Values\n",
    "import numpy as np\n",
    "import cv2\n",
    "\n",
    "img = cv2.imread('Images/Capture6.JPG')\n",
    "img.dtype\n",
    "img.size\n",
    "img.shape\n",
    "cv2.namedWindow('window',cv2.WINDOW_NORMAL)\n",
    "cv2.imshow('window',img[:,:,0])\n",
    "cv2.imwrite('blue.jpg',img[:,:,0])\n",
    "cv2.imwrite('green.jpg',img[:,:,1])\n",
    "cv2.imwrite('red.jpg',img[:,:,2])\n",
    "\n",
    "cv2.waitKey(0)\n",
    "cv2.destroyAllWindows()"
   ]
  },
  {
   "cell_type": "code",
   "execution_count": 80,
   "metadata": {},
   "outputs": [],
   "source": [
    "# b,g,r = cv2.split(img)   ## Splitting\n",
    "# img_new = cv2.merge((b,g,r))   ## merging channels\n",
    "\n",
    "### Copy paste image into image\n",
    "minion = cv2.imread('Images/minion.jpg')\n",
    "minion.shape\n",
    "minion[30:150,35:155] = minion[30:150,168:288]\n",
    "cv2.namedWindow('window',cv2.WINDOW_AUTOSIZE)\n",
    "cv2.imshow('window',minion)\n",
    "cv2.waitKey(0)\n",
    "cv2.destroyAllWindows()\n"
   ]
  },
  {
   "cell_type": "code",
   "execution_count": 17,
   "metadata": {},
   "outputs": [
    {
     "data": {
      "image/png": "[encoded data removed]",
      "text/plain": [
       "<Figure size 432x288 with 6 Axes>"
      ]
     },
     "metadata": {
      "needs_background": "light"
     },
     "output_type": "display_data"
    }
   ],
   "source": [
    "## Making borders for images\n",
    "import cv2\n",
    "import numpy as np\n",
    "from matplotlib import pyplot as plt\n",
    "\n",
    "BLUE = [255,0,0]\n",
    "\n",
    "img1 = cv2.imread('Images/minion.jpg')\n",
    "\n",
    "replicate = cv2.copyMakeBorder(img1,10,10,10,10,cv2.BORDER_REPLICATE)\n",
    "reflect = cv2.copyMakeBorder(img1,10,10,10,10,cv2.BORDER_REFLECT)\n",
    "reflect101 = cv2.copyMakeBorder(img1,10,10,10,10,cv2.BORDER_REFLECT_101)\n",
    "wrap = cv2.copyMakeBorder(img1,10,10,10,10,cv2.BORDER_WRAP)\n",
    "constant= cv2.copyMakeBorder(img1,10,10,10,10,cv2.BORDER_CONSTANT,value=BLUE)\n",
    "\n",
    "plt.subplot(231),plt.imshow(img1,'gray'),plt.title('ORIGINAL')\n",
    "plt.subplot(232),plt.imshow(replicate,'gray'),plt.title('REPLICATE')\n",
    "plt.subplot(233),plt.imshow(reflect,'gray'),plt.title('REFLECT')\n",
    "plt.subplot(234),plt.imshow(reflect101,'gray'),plt.title('REFLECT_101')\n",
    "plt.subplot(235),plt.imshow(wrap,'gray'),plt.title('WRAP')\n",
    "plt.subplot(236),plt.imshow(constant,'gray'),plt.title('CONSTANT')\n",
    "\n",
    "plt.show()"
   ]
  },
  {
   "cell_type": "markdown",
   "metadata": {},
   "source": [
    "\n",
    "### Image Procesing"
   ]
  },
  {
   "cell_type": "code",
   "execution_count": 18,
   "metadata": {},
   "outputs": [
    {
     "data": {
      "text/plain": [
       "True"
      ]
     },
     "execution_count": 18,
     "metadata": {},
     "output_type": "execute_result"
    }
   ],
   "source": [
    "# Changing colorspaces\n",
    "import numpy\n",
    "import cv2\n",
    "\n",
    "# img =cv2.imread('minion.jpg')\n",
    "# img = cv2.cvtColor(img,cv2.COLOR_BGR2HSV)\n",
    "# cv2.imwrite('img.jpg',img)\n",
    "\n",
    "# # Geometric Transformations\n",
    "# ## Resize\n",
    "# img = cv2.imread('messi5.jpg')\n",
    "# res = cv2.resize(img,None,fx=2, fy=2, interpolation = cv2.INTER_CUBIC)\n",
    "# #OR\n",
    "# height, width = img.shape[:2]\n",
    "# res = cv2.resize(img,(2*width, 2*height), interpolation = cv2.INTER_CUBIC)\n",
    "\n",
    "## Translation & Rotation\n",
    "img = cv2.imread('Images/minion.jpg',0)\n",
    "rows,cols = img.shape\n",
    "\n",
    "M = cv2.getRotationMatrix2D((cols/2,rows/2),90,1)\n",
    "dst = cv2.warpAffine(img,M,(cols,rows))\n",
    "cv2.imwrite('dst.jpg',dst)\n",
    "\n",
    "## Other examples tilting the image.\n"
   ]
  },
  {
   "cell_type": "code",
   "execution_count": 19,
   "metadata": {},
   "outputs": [
    {
     "data": {
      "image/png": "[encoded data removed]",
      "text/plain": [
       "<Figure size 432x288 with 6 Axes>"
      ]
     },
     "metadata": {},
     "output_type": "display_data"
    }
   ],
   "source": [
    "## Image Thresholding, used for object detection techniques\n",
    "import cv2\n",
    "import numpy as np\n",
    "from matplotlib import pyplot as plt\n",
    "\n",
    "img = cv2.imread('Imgradient.jpg',0)\n",
    "ret,thresh1 = cv2.threshold(img,127,255,cv2.THRESH_BINARY)\n",
    "ret,thresh2 = cv2.threshold(img,127,255,cv2.THRESH_BINARY_INV)\n",
    "ret,thresh3 = cv2.threshold(img,127,255,cv2.THRESH_TRUNC)\n",
    "ret,thresh4 = cv2.threshold(img,127,255,cv2.THRESH_TOZERO)\n",
    "ret,thresh5 = cv2.threshold(img,127,255,cv2.THRESH_TOZERO_INV)\n",
    "\n",
    "titles = ['Original Image','BINARY','BINARY_INV','TRUNC','TOZERO','TOZERO_INV']\n",
    "images = [img, thresh1, thresh2, thresh3, thresh4, thresh5]\n",
    "\n",
    "for i in range(6):\n",
    "    plt.subplot(2,3,i+1),plt.imshow(images[i],'gray')\n",
    "    plt.title(titles[i])\n",
    "    plt.xticks([]),plt.yticks([])\n",
    "\n",
    "plt.show()"
   ]
  },
  {
   "cell_type": "markdown",
   "metadata": {},
   "source": [
    "## Averaging, Gaussian , Bilateral filtering \n",
    "## Some important image processing techniques are edge detection, contours, template matching"
   ]
  },
  {
   "cell_type": "code",
   "execution_count": 20,
   "metadata": {},
   "outputs": [
    {
     "data": {
      "image/png": "[encoded data removed]",
      "text/plain": [
       "<Figure size 432x288 with 2 Axes>"
      ]
     },
     "metadata": {},
     "output_type": "display_data"
    },
    {
     "data": {
      "text/plain": [
       "True"
      ]
     },
     "execution_count": 20,
     "metadata": {},
     "output_type": "execute_result"
    }
   ],
   "source": [
    "# Image Smoothening\n",
    "import cv2\n",
    "import numpy as np\n",
    "from matplotlib import pyplot as plt\n",
    "\n",
    "img = cv2.imread('minion.jpg')\n",
    "\n",
    "kernel = np.ones((5,5),np.float32)/25\n",
    "dst = cv2.filter2D(img,-1,kernel)\n",
    "\n",
    "plt.subplot(121),plt.imshow(img),plt.title('Original')\n",
    "plt.xticks([]), plt.yticks([])\n",
    "plt.subplot(122),plt.imshow(dst),plt.title('Averaging')\n",
    "plt.xticks([]), plt.yticks([])\n",
    "plt.show()\n",
    "cv2.imwrite('avg.jpg',dst)\n"
   ]
  },
  {
   "cell_type": "code",
   "execution_count": 21,
   "metadata": {},
   "outputs": [
    {
     "data": {
      "image/png": "[encoded data removed]",
      "text/plain": [
       "<Figure size 432x288 with 2 Axes>"
      ]
     },
     "metadata": {},
     "output_type": "display_data"
    }
   ],
   "source": [
    "## Edge detection\n",
    "import cv2\n",
    "import numpy as np\n",
    "from matplotlib import pyplot as plt\n",
    "\n",
    "img = cv2.imread('Capture6.JPG',0)\n",
    "edges = cv2.Canny(img,100,200)\n",
    "\n",
    "plt.subplot(121),plt.imshow(img,cmap = 'gray')\n",
    "plt.title('Original Image'), plt.xticks([]), plt.yticks([])\n",
    "plt.subplot(122),plt.imshow(edges,cmap = 'gray')\n",
    "plt.title('Edge Image'), plt.xticks([]), plt.yticks([])\n",
    "\n",
    "plt.show()\n"
   ]
  },
  {
   "cell_type": "markdown",
   "metadata": {},
   "source": [
    "### Template Matching \n",
    "\n",
    "\n"
   ]
  },
  {
   "cell_type": "code",
   "execution_count": 23,
   "metadata": {},
   "outputs": [],
   "source": [
    "import cv2\n",
    "import numpy as np\n",
    "from matplotlib import pyplot as plt\n",
    "\n",
    "img = cv2.imread('minion.jpg',0)\n",
    "img2 = img.copy()\n",
    "template = cv2.imread('minion_face.jpg',0)\n",
    "w, h = template.shape[::-1]\n",
    "\n",
    "# All the 6 methods for comparison in a list\n",
    "methods = ['cv2.TM_CCOEFF', 'cv2.TM_CCOEFF_NORMED', 'cv2.TM_CCORR',\n",
    "            'cv2.TM_CCORR_NORMED', 'cv2.TM_SQDIFF', 'cv2.TM_SQDIFF_NORMED']\n",
    "\n",
    "for meth in methods:\n",
    "    img = img2.copy()\n",
    "    method = eval(meth)\n",
    "\n",
    "    # Apply template Matching\n",
    "    res = cv2.matchTemplate(img,template,method)\n",
    "    min_val, max_val, min_loc, max_loc = cv2.minMaxLoc(res)\n",
    "\n",
    "    # If the method is TM_SQDIFF or TM_SQDIFF_NORMED, take minimum\n",
    "    if method in [cv2.TM_SQDIFF, cv2.TM_SQDIFF_NORMED]:\n",
    "        top_left = min_loc\n",
    "    else:\n",
    "        top_left = max_loc\n",
    "    bottom_right = (top_left[0] + w, top_left[1] + h)\n",
    "\n",
    "    cv2.rectangle(img,top_left, bottom_right, 255, 2)\n",
    "\n",
    "#     plt.subplot(121),plt.imshow(res,cmap = 'gray')\n",
    "#     plt.title('Matching Result'), plt.xticks([]), plt.yticks([])\n",
    "#     plt.subplot(122),plt.imshow(img,cmap = 'gray')\n",
    "#     plt.title('Detected Point'), plt.xticks([]), plt.yticks([])\n",
    "#     plt.suptitle(meth)\n",
    "\n",
    "#     plt.show()"
   ]
  },
  {
   "cell_type": "code",
   "execution_count": 24,
   "metadata": {},
   "outputs": [],
   "source": [
    "# Feature detection\n",
    "## corner detection\n",
    "import cv2\n",
    "import numpy as np\n",
    "\n",
    "filename = 'chess.jpg'\n",
    "img = cv2.imread(filename)\n",
    "gray = cv2.cvtColor(img,cv2.COLOR_BGR2GRAY)\n",
    "\n",
    "gray = np.float32(gray)\n",
    "dst = cv2.cornerHarris(gray,2,3,0.04)\n",
    "\n",
    "#result is dilated for marking the corners, not important\n",
    "dst = cv2.dilate(dst,None)\n",
    "\n",
    "# Threshold for an optimal value, it may vary depending on the image.\n",
    "img[dst>0.01*dst.max()]=[0,0,255]\n",
    "\n",
    "cv2.imshow('dst',img)\n",
    "cv2.waitKey(0) \n",
    "cv2.destroyAllWindows()"
   ]
  },
  {
   "cell_type": "markdown",
   "metadata": {},
   "source": [
    "## Real-time face, eyes and smile Detection using python and opencv"
   ]
  },
  {
   "cell_type": "code",
   "execution_count": 4,
   "metadata": {},
   "outputs": [],
   "source": [
    "import numpy as np\n",
    "import cv2\n",
    "\n",
    "\n",
    "faceCascade = cv2.CascadeClassifier('Cascades/haarcascade_frontalface_default.xml')\n",
    "eyeCascade = cv2.CascadeClassifier('Cascades/haarcascade_eye.xml')\n",
    "smileCascade = cv2.CascadeClassifier('Cascades/haarcascade_smile.xml')\n",
    "\n",
    "cap = cv2.VideoCapture(0)\n",
    "cap.set(3,640) # set Width\n",
    "cap.set(4,480) # set Height\n",
    "\n",
    "while True:\n",
    "    ret, img = cap.read()\n",
    "    #img = cv2.flip(img, -1)\n",
    "    gray = cv2.cvtColor(img, cv2.COLOR_BGR2GRAY)\n",
    "    faces = faceCascade.detectMultiScale(\n",
    "        gray,\n",
    "        scaleFactor=1.3,\n",
    "        minNeighbors=5,      \n",
    "        minSize=(30, 30)\n",
    "    )\n",
    "\n",
    "    for (x,y,w,h) in faces:\n",
    "        cv2.rectangle(img,(x,y),(x+w,y+h),(255,0,0),2)\n",
    "        roi_gray = gray[y:y+h, x:x+w]\n",
    "        roi_color = img[y:y+h, x:x+w]\n",
    "        \n",
    "        eyes = eyeCascade.detectMultiScale(\n",
    "            roi_gray,\n",
    "            scaleFactor= 1.5,\n",
    "            minNeighbors=5,\n",
    "            minSize=(5, 5),\n",
    "            )\n",
    "        \n",
    "        for (ex, ey, ew, eh) in eyes:\n",
    "            cv2.rectangle(roi_color, (ex, ey), (ex + ew, ey + eh), (0, 255, 0), 2)\n",
    "               \n",
    "        \n",
    "        smile = smileCascade.detectMultiScale(\n",
    "            roi_gray,\n",
    "            scaleFactor= 1.5,\n",
    "            minNeighbors=15,\n",
    "            minSize=(25, 25),\n",
    "            )\n",
    "        \n",
    "        for (xx, yy, ww, hh) in smile:\n",
    "            cv2.rectangle(roi_color, (xx, yy), (xx + ww, yy + hh), (0, 255, 0), 2)\n",
    "        \n",
    "        cv2.imshow('video', img)\n",
    "\n",
    "    k = cv2.waitKey(30) & 0xff\n",
    "    if k == 27: # press 'ESC' to quit\n",
    "        break\n",
    "\n",
    "cap.release()\n",
    "cv2.destroyAllWindows()\n"
   ]
  },
  {
   "cell_type": "code",
   "execution_count": null,
   "metadata": {},
   "outputs": [],
   "source": []
  },
  {
   "cell_type": "code",
   "execution_count": null,
   "metadata": {},
   "outputs": [],
   "source": []
  }
 ],
 "metadata": {
  "kernelspec": {
   "display_name": "Python 3",
   "language": "python",
   "name": "python3"
  },
  "language_info": {
   "codemirror_mode": {
    "name": "ipython",
    "version": 3
   },
   "file_extension": ".py",
   "mimetype": "text/x-python",
   "name": "python",
   "nbconvert_exporter": "python",
   "pygments_lexer": "ipython3",
   "version": "3.7.6"
  }
 },
 "nbformat": 4,
 "nbformat_minor": 4
}
