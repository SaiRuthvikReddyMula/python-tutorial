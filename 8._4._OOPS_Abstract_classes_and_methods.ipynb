{
 "cells": [
  {
   "cell_type": "markdown",
   "metadata": {},
   "source": [
    "Ref : https://www.youtube.com/watch?v=6Fs2MIf61oQ"
   ]
  },
  {
   "cell_type": "markdown",
   "metadata": {},
   "source": [
    "### Abstract Classes : \n",
    "- Classes with abstract methods : Cant be instantiated\n",
    "- Abstract class needs to be extended and its methods to be implemented\n",
    "\n",
    "### Abstract Methods : \n",
    "- Does nothing - Schema\n",
    "- It is a method whose action is redefined in child class as per requirement of the object\n",
    "\n"
   ]
  },
  {
   "cell_type": "code",
   "execution_count": 9,
   "metadata": {},
   "outputs": [
    {
     "name": "stdout",
     "output_type": "stream",
     "text": [
      "I can walk and Run...\n",
      "I can crawl\n"
     ]
    }
   ],
   "source": [
    "class Animal:\n",
    "    def move(self):\n",
    "        pass\n",
    "    \n",
    "class Human(Animal):\n",
    "    def move(self):\n",
    "        print(\"I can walk and Run...\")\n",
    "        \n",
    "class Snake(Animal):\n",
    "    def move(self):\n",
    "        print(\"I can crawl\")\n",
    "        \n",
    "a1 = Animal()\n",
    "a1.move()\n",
    "\n",
    "h1 = Human()\n",
    "h1.move()\n",
    "\n",
    "s1 = Snake()\n",
    "s1.move()"
   ]
  },
  {
   "cell_type": "markdown",
   "metadata": {},
   "source": [
    "### Abstract Concept\n",
    "great apes -> primates -> humans\n",
    "\n",
    "automobile -> 2 wheeled automobile -> motorbike\n",
    "\n",
    "fossil fueled vehicle -> motorbike"
   ]
  },
  {
   "cell_type": "markdown",
   "metadata": {},
   "source": [
    "1. Abstract Class Can't be instantiated\n",
    "2. A class inheriting an Abstract class should implement all the abstract methods\n",
    "3. Abstract base classes provide a way to define interfaces"
   ]
  },
  {
   "cell_type": "code",
   "execution_count": 14,
   "metadata": {},
   "outputs": [
    {
     "name": "stdout",
     "output_type": "stream",
     "text": [
      "I can walk and Run...\n",
      "I behave like an animal\n",
      "I can crawl\n"
     ]
    }
   ],
   "source": [
    "from abc import ABC, abstractmethod\n",
    "\n",
    "#ABC class is known as meta class which means a class that defines the behavior of other classes.\n",
    "\n",
    "class Animal(ABC):\n",
    "    # An Abstract method - Method without body\n",
    "    @abstractmethod\n",
    "    def move(self):\n",
    "        pass\n",
    "    # A concrete method is a method whose action is defined in the abstact class\n",
    "    def behave(self):\n",
    "        print(\"I behave like an animal\")\n",
    "    \n",
    "class Human(Animal):\n",
    "    def move(self):\n",
    "        print(\"I can walk and Run...\")\n",
    "        \n",
    "class Snake(Animal):\n",
    "    def move(self):\n",
    "        print(\"I can crawl\")\n",
    "        \n",
    "# a1 = Animal()\n",
    "\n",
    "h1 = Human()\n",
    "h1.move()\n",
    "h1.behave()\n",
    "\n",
    "s1 = Snake()\n",
    "s1.move()"
   ]
  },
  {
   "cell_type": "code",
   "execution_count": null,
   "metadata": {},
   "outputs": [],
   "source": []
  }
 ],
 "metadata": {
  "kernelspec": {
   "display_name": "Python 3",
   "language": "python",
   "name": "python3"
  },
  "language_info": {
   "codemirror_mode": {
    "name": "ipython",
    "version": 3
   },
   "file_extension": ".py",
   "mimetype": "text/x-python",
   "name": "python",
   "nbconvert_exporter": "python",
   "pygments_lexer": "ipython3",
   "version": "3.7.7"
  }
 },
 "nbformat": 4,
 "nbformat_minor": 4
}
