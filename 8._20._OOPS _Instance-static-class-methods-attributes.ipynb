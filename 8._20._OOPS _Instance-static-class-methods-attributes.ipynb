{
 "cells": [
  {
   "cell_type": "markdown",
   "metadata": {
    "slideshow": {
     "slide_type": "slide"
    }
   },
   "source": [
    "# Classes, Methods and Attributes\n",
    "\n"
   ]
  },
  {
   "cell_type": "markdown",
   "metadata": {
    "slideshow": {
     "slide_type": "slide"
    }
   },
   "source": [
    "Let's design an object oriented structure together.\n",
    "\n",
    "## SCENARIO\n",
    "\n",
    "- PROBLEM: We have a lot of working dogs to keep track of\n",
    "- Approach: Design an oop schema that will allow us to keep track of all the dogs\n",
    "\n",
    "Things to track\n",
    "\n",
    "* name\n",
    "* color\n",
    "* breed\n",
    "* owners \n",
    "\n",
    "NOTE: These dogs are all employed by the same employer"
   ]
  },
  {
   "cell_type": "markdown",
   "metadata": {
    "slideshow": {
     "slide_type": "slide"
    }
   },
   "source": [
    "## Object Oriented Programming\n",
    "Bundling properties and behaviors into individual object(s)"
   ]
  },
  {
   "cell_type": "markdown",
   "metadata": {
    "slideshow": {
     "slide_type": "slide"
    }
   },
   "source": [
    "## What is a class?\n",
    "\n",
    "Class defines how properties and behaviors are stored in the objects.\n",
    "Think of it like a recipe. (Or if you are an engineer? cool, it's a schema.)"
   ]
  },
  {
   "cell_type": "markdown",
   "metadata": {
    "slideshow": {
     "slide_type": "slide"
    }
   },
   "source": [
    "## Create a class in Python\n",
    "\n",
    "* A class is the definition for the object\n",
    "* An instance is a copy of said class with information stored within it\n"
   ]
  },
  {
   "cell_type": "code",
   "execution_count": 1,
   "metadata": {
    "slideshow": {
     "slide_type": "slide"
    }
   },
   "outputs": [],
   "source": [
    "# Define the most basic class\n",
    "class workingDog:\n",
    "    pass"
   ]
  },
  {
   "cell_type": "code",
   "execution_count": 2,
   "metadata": {},
   "outputs": [
    {
     "data": {
      "text/plain": [
       "(<__main__.workingDog at 0x2b714b8d788>,\n",
       " <__main__.workingDog at 0x2b714b8db48>)"
      ]
     },
     "execution_count": 2,
     "metadata": {},
     "output_type": "execute_result"
    }
   ],
   "source": [
    "# We can make a few instances\n",
    "my_dog = workingDog()\n",
    "your_dog = workingDog()\n",
    "# Notice that the above two objects are different. They represent instances of the dog() class\n",
    "my_dog, your_dog"
   ]
  },
  {
   "cell_type": "code",
   "execution_count": 3,
   "metadata": {
    "slideshow": {
     "slide_type": "subslide"
    }
   },
   "outputs": [
    {
     "data": {
      "text/plain": [
       "<__main__.workingDog at 0x2b714b59748>"
      ]
     },
     "execution_count": 3,
     "metadata": {},
     "output_type": "execute_result"
    }
   ],
   "source": [
    "# This runs nicely, returning an output object\n",
    "workingDog()"
   ]
  },
  {
   "cell_type": "markdown",
   "metadata": {
    "slideshow": {
     "slide_type": "slide"
    }
   },
   "source": [
    "Now, we'd like to store information about `all_the_dogs` in this class. Let's try."
   ]
  },
  {
   "cell_type": "code",
   "execution_count": 4,
   "metadata": {
    "slideshow": {
     "slide_type": "slide"
    }
   },
   "outputs": [
    {
     "ename": "TypeError",
     "evalue": "workingDog() takes no arguments",
     "output_type": "error",
     "traceback": [
      "\u001b[1;31m---------------------------------------------------------------------------\u001b[0m",
      "\u001b[1;31mTypeError\u001b[0m                                 Traceback (most recent call last)",
      "\u001b[1;32m<ipython-input-4-0d7ee6fc0e2a>\u001b[0m in \u001b[0;36m<module>\u001b[1;34m\u001b[0m\n\u001b[0;32m      1\u001b[0m \u001b[1;31m# Uh oh. What happens here?\u001b[0m\u001b[1;33m\u001b[0m\u001b[1;33m\u001b[0m\u001b[1;33m\u001b[0m\u001b[0m\n\u001b[1;32m----> 2\u001b[1;33m \u001b[0mworkingDog\u001b[0m\u001b[1;33m(\u001b[0m\u001b[0mname\u001b[0m\u001b[1;33m=\u001b[0m\u001b[1;34m\"fido\"\u001b[0m\u001b[1;33m)\u001b[0m\u001b[1;33m\u001b[0m\u001b[1;33m\u001b[0m\u001b[0m\n\u001b[0m",
      "\u001b[1;31mTypeError\u001b[0m: workingDog() takes no arguments"
     ]
    }
   ],
   "source": [
    "# Uh oh. What happens here? \n",
    "workingDog(name=\"fido\")"
   ]
  },
  {
   "cell_type": "code",
   "execution_count": 7,
   "metadata": {
    "slideshow": {
     "slide_type": "slide"
    }
   },
   "outputs": [
    {
     "data": {
      "text/plain": [
       "{'name': 'Chaya'}"
      ]
     },
     "execution_count": 7,
     "metadata": {},
     "output_type": "execute_result"
    }
   ],
   "source": [
    "# You can manually define an attribute for a class if you want\n",
    "my_dog.name = \"Chaya\"\n",
    "my_dog.name\n",
    "my_dog.__dict__"
   ]
  },
  {
   "cell_type": "markdown",
   "metadata": {
    "slideshow": {
     "slide_type": "slide"
    }
   },
   "source": [
    "But, it's better to define what you intend to store in the class definition.\n",
    "Then populate the data accordingly."
   ]
  },
  {
   "cell_type": "markdown",
   "metadata": {
    "slideshow": {
     "slide_type": "slide"
    }
   },
   "source": [
    "## Define How data are stored in a class\n",
    "\n",
    "* initialize with any stock attributes needed\n",
    "* add methods (functions) that can be run on the class"
   ]
  },
  {
   "cell_type": "markdown",
   "metadata": {},
   "source": [
    "`__init__`\n",
    "\n",
    "leading and trailing double underscores `__` mean this is\n",
    "a **special** method. \n",
    "\n",
    "Only use "
   ]
  },
  {
   "cell_type": "code",
   "execution_count": 8,
   "metadata": {
    "slideshow": {
     "slide_type": "slide"
    }
   },
   "outputs": [],
   "source": [
    "# Add name and age attributes to your class\n",
    "class workingDog:\n",
    "    # Initialize instance attributes\n",
    "    # These are the things that will be specific to each instance\n",
    "    # e.g. Every dog has an age \n",
    "    def __init__(self, age, name):\n",
    "        self.name = name\n",
    "        self.age = age"
   ]
  },
  {
   "cell_type": "code",
   "execution_count": 11,
   "metadata": {
    "slideshow": {
     "slide_type": "slide"
    }
   },
   "outputs": [
    {
     "data": {
      "text/plain": [
       "<__main__.workingDog at 0x2b714c3ea48>"
      ]
     },
     "execution_count": 11,
     "metadata": {},
     "output_type": "execute_result"
    }
   ],
   "source": [
    "my_dog = workingDog(name=\"Chaya\", age=14)\n",
    "joes_dog = workingDog(name=\"James\", age=10)\n",
    "# # Notice that the above two objects are different. They represent instances of the dog() class\n",
    "my_dog.name, joes_dog.name\n",
    "my_dog.age, joes_dog.age\n",
    "my_dog"
   ]
  },
  {
   "cell_type": "markdown",
   "metadata": {
    "slideshow": {
     "slide_type": "slide"
    }
   },
   "source": [
    "## Pep8 Syntax rules\n",
    "\n",
    "* Name classes using `camelCaseLikeThis `\n",
    "* functions / methods will use `snake_case_like_this`\n",
    "* Docstrings should use triple double quotes `\"\"\"like this\"\"\"` Trouble quotes!!"
   ]
  },
  {
   "cell_type": "markdown",
   "metadata": {
    "slideshow": {
     "slide_type": "slide"
    }
   },
   "source": [
    "## Class attributes\n",
    "\n",
    "class attributes are stored and are the same across all instances. \n",
    "For instance we might decide that the dog class is of type \"mammal\""
   ]
  },
  {
   "cell_type": "code",
   "execution_count": 12,
   "metadata": {
    "slideshow": {
     "slide_type": "slide"
    }
   },
   "outputs": [],
   "source": [
    "# Add name and age attributes to your class\n",
    "class workingDog:\n",
    "    type = \"Service Animal\"\n",
    "    # Initialize instance attributes\n",
    "    # These are the things that will be specific to each instance\n",
    "    # e.g. Every dog has an age \n",
    "    def __init__(self, name, age):\n",
    "        self.name = name\n",
    "        self.age = age"
   ]
  },
  {
   "cell_type": "code",
   "execution_count": 13,
   "metadata": {
    "slideshow": {
     "slide_type": "slide"
    }
   },
   "outputs": [
    {
     "name": "stdout",
     "output_type": "stream",
     "text": [
      "Joe's dog is: James Max's dog is: Haddie\n"
     ]
    },
    {
     "data": {
      "text/plain": [
       "('Service Animal', 'Service Animal')"
      ]
     },
     "execution_count": 13,
     "metadata": {},
     "output_type": "execute_result"
    }
   ],
   "source": [
    "my_dog = workingDog(name=\"Chaya\", age=14)\n",
    "joes_dog = workingDog(name=\"James\", age=10)\n",
    "maxs_dog = workingDog(name=\"Haddie\", age=2)\n",
    "# Notice that the above two objects are different. They represent instances of the dog() class\n",
    "print(\"Joe's dog is:\", joes_dog.name, \"Max's dog is:\",maxs_dog.name)\n",
    "# But notice that both are now of type mammal!\n",
    "joes_dog.type, maxs_dog.type\n"
   ]
  },
  {
   "cell_type": "markdown",
   "metadata": {
    "slideshow": {
     "slide_type": "slide"
    }
   },
   "source": [
    "## Class Methods\n",
    "\n",
    "A method is a function that can be called on a particular object"
   ]
  },
  {
   "cell_type": "code",
   "execution_count": 15,
   "metadata": {
    "slideshow": {
     "slide_type": "slide"
    }
   },
   "outputs": [
    {
     "name": "stdout",
     "output_type": "stream",
     "text": [
      "['Haddie_4', 'Haddie_2']\n",
      "The data, sorted: ['Haddie_2', 'Haddie_4']\n"
     ]
    }
   ],
   "source": [
    "my_list = [\"Haddie_4\", \"Haddie_2\"]\n",
    "print(my_list)\n",
    "# .sort() is a method called on the list\n",
    "my_list.sort()\n",
    "print(\"The data, sorted:\", my_list)"
   ]
  },
  {
   "cell_type": "markdown",
   "metadata": {
    "slideshow": {
     "slide_type": "slide"
    }
   },
   "source": [
    "Create a method that calculates the age of fido in dog years. Let's assume for this example 1 dog year == 7 human years.\n"
   ]
  },
  {
   "cell_type": "code",
   "execution_count": 16,
   "metadata": {
    "slideshow": {
     "slide_type": "slide"
    }
   },
   "outputs": [],
   "source": [
    "# Add name and age attributes to your class\n",
    "class workingDog:\n",
    "    type = \"Service Animal\"\n",
    "    # Initialize instance attributes\n",
    "    # These are the things that will be specific to each instance\n",
    "    # e.g. Every dog has an age \n",
    "    def __init__(self, first_name, age):\n",
    "        \"\"\"All dogs will have a name (string) and an age (int)\"\"\"\n",
    "        self.first_name = first_name\n",
    "        self.age = age\n",
    "        \n",
    "    def dog_to_human_years(self):\n",
    "        return self.age * 7"
   ]
  },
  {
   "cell_type": "markdown",
   "metadata": {
    "slideshow": {
     "slide_type": "notes"
    }
   },
   "source": [
    "The code above doesn't work? Why? Notice that all methods need to be told to run on the object itself. THe word \"self\" does this. Note that you don't have to use the word \"Self\". you could call the object bob or use any other word. However it is convention in python to use \"self\" for all methods in a class. It's wise to stick to convention!"
   ]
  },
  {
   "cell_type": "code",
   "execution_count": 17,
   "metadata": {
    "slideshow": {
     "slide_type": "slide"
    }
   },
   "outputs": [
    {
     "name": "stdout",
     "output_type": "stream",
     "text": [
      "James is 70 HUMAN years old\n",
      "Haddie is 14 HUMAN years old\n"
     ]
    }
   ],
   "source": [
    "joes_dog = workingDog(first_name=\"James\", age=10)\n",
    "maxs_dog = workingDog(first_name=\"Haddie\", age=2)\n",
    "joes_dog.dog_to_human_years()\n",
    "\n",
    "print(joes_dog.first_name, \"is\", joes_dog.dog_to_human_years(), \"HUMAN years old\")\n",
    "print(maxs_dog.first_name, \"is\", maxs_dog.dog_to_human_years(), \"HUMAN years old\")"
   ]
  },
  {
   "cell_type": "markdown",
   "metadata": {
    "slideshow": {
     "slide_type": "slide"
    }
   },
   "source": [
    "## On Your Own (OYO)\n",
    "\n",
    "* Add a new object attribute to the class called `total_biscuits` (payment) that specifies how many biscuits a day a dog will get.\n",
    "* Then create a method that calculates how many biscuits a year that will be for a single dog.\n",
    "\n",
    "HINT: the `total_biscuits` attribute will be provided to the class as an input when you initialize a new object from that class.\n"
   ]
  },
  {
   "cell_type": "code",
   "execution_count": 18,
   "metadata": {},
   "outputs": [],
   "source": [
    "# Add name and age attributes to your class\n",
    "class workingDog:\n",
    "    type = \"Service Animal\"\n",
    "    # Initialize instance attributes\n",
    "    # These are the things that will be specific to each instance\n",
    "    # e.g. Every dog has an age \n",
    "    def __init__(self, first_name, age, total_biscuits=None):\n",
    "        \"\"\"All dogs will have a name (string) and an age (int)\"\"\"\n",
    "        self.first_name = first_name\n",
    "        self.age = age\n",
    "        self.total_biscuits = total_biscuits\n",
    "        \n",
    "    def dog_to_human_years(self):\n",
    "        return self.age * 7\n",
    "    \n",
    "    def calculate_biscuit_salary(self):\n",
    "        return self.total_biscuits *365\n",
    "        "
   ]
  },
  {
   "cell_type": "code",
   "execution_count": 19,
   "metadata": {},
   "outputs": [
    {
     "data": {
      "text/plain": [
       "5475"
      ]
     },
     "execution_count": 19,
     "metadata": {},
     "output_type": "execute_result"
    }
   ],
   "source": [
    "joes_dog = workingDog(first_name=\"James\", age=10, total_biscuits=5)\n",
    "maxs_dog = workingDog(first_name=\"Haddie\", age=2, total_biscuits=15)\n",
    "maxs_dog.calculate_biscuit_salary()"
   ]
  },
  {
   "cell_type": "code",
   "execution_count": 20,
   "metadata": {},
   "outputs": [
    {
     "data": {
      "text/plain": [
       "1825"
      ]
     },
     "execution_count": 20,
     "metadata": {},
     "output_type": "execute_result"
    }
   ],
   "source": [
    "joes_dog.calculate_biscuit_salary()"
   ]
  },
  {
   "cell_type": "markdown",
   "metadata": {
    "slideshow": {
     "slide_type": "slide"
    }
   },
   "source": [
    "## Previous OYO\n",
    "\n",
    "Biscuit payment calculator method!!"
   ]
  },
  {
   "cell_type": "code",
   "execution_count": 21,
   "metadata": {
    "slideshow": {
     "slide_type": "slide"
    }
   },
   "outputs": [],
   "source": [
    "# Add name and age attributes to your class\n",
    "class workingDog:\n",
    "    \n",
    "    type = \"Service Animal\"\n",
    "    \n",
    "    def __init__(self, first_name, last_name, age, biscuits):\n",
    "        \"\"\"All dogs will have a name (string) and an age (int)\"\"\"\n",
    "        self.first_name = first_name\n",
    "        self.last_name = last_name\n",
    "        self.age = age\n",
    "        self.biscuits = biscuits\n",
    "        \n",
    "    def dog_to_human_years(self):\n",
    "        return self.age * 7\n",
    "    \n",
    "    def annual_buscuits(self):\n",
    "        return self.biscuits * 365"
   ]
  },
  {
   "cell_type": "code",
   "execution_count": 22,
   "metadata": {
    "slideshow": {
     "slide_type": "slide"
    }
   },
   "outputs": [
    {
     "name": "stdout",
     "output_type": "stream",
     "text": [
      "Jenny's dog gets 4380 biscuits\n",
      "Max's dog gets 43800 biscuits\n"
     ]
    }
   ],
   "source": [
    "# Now let's redefine the dog objects\n",
    "joes_dog = workingDog(first_name=\"James\", last_name = \"McGlinchy\", \n",
    "                      age=10, biscuits=12)\n",
    "maxs_dog = workingDog(first_name=\"Haddie\", last_name = \"Joseph\", \n",
    "                      age=2, biscuits=120)\n",
    "jennys_dog = workingDog(first_name=\"Boy\", last_name = \"Palomino\", \n",
    "                        age=6, biscuits=12)\n",
    "\n",
    "print(\"Jenny's dog gets\", jennys_dog.annual_buscuits(), \"biscuits\")\n",
    "print(\"Max's dog gets\", maxs_dog.annual_buscuits(), \"biscuits\")"
   ]
  },
  {
   "cell_type": "markdown",
   "metadata": {
    "slideshow": {
     "slide_type": "slide"
    }
   },
   "source": [
    "## Building out our class\n",
    "\n",
    "Let's pretend that we have a few other goals associated with our class. We want to:\n",
    "\n",
    "1. keep track of how many working dogs we have in our working dog posse AND\n",
    "2. we want the ability to give these dogs a well deserved raise for all of their hard work"
   ]
  },
  {
   "cell_type": "code",
   "execution_count": 23,
   "metadata": {
    "slideshow": {
     "slide_type": "slide"
    }
   },
   "outputs": [],
   "source": [
    "# Add a class attribute called total_dogs to keep track \n",
    "# of the total number of objects\n",
    "class workingDog:\n",
    "    \n",
    "    type = \"Service Animal\"\n",
    "    total_dogs = 0\n",
    "    \n",
    "    def __init__(self, first_name, last_name, age, biscuits):\n",
    "        \"\"\"All dogs will have a name (string) and an age (int)\"\"\"\n",
    "        self.first_name = first_name\n",
    "        self.last_name = last_name\n",
    "        self.age = age\n",
    "        self.biscuits = biscuits\n",
    "        \n",
    "        workingDog.total_dogs += 1\n",
    "        \n",
    "    def dog_to_human_years(self):\n",
    "        return self.age * 7\n",
    "    \n",
    "    def annual_buscuits(self):\n",
    "        return self.biscuits * 365"
   ]
  },
  {
   "cell_type": "code",
   "execution_count": 24,
   "metadata": {
    "slideshow": {
     "slide_type": "slide"
    }
   },
   "outputs": [
    {
     "name": "stdout",
     "output_type": "stream",
     "text": [
      "total dogs before 0\n",
      "total dogs after 3\n"
     ]
    }
   ],
   "source": [
    "# Now let's redefine the dogs\n",
    "print(\"total dogs before\", workingDog.total_dogs)\n",
    "joes_dog = workingDog(first_name=\"James\", last_name = \"McGlinchy\", \n",
    "                      age=10, biscuits=12)\n",
    "maxs_dog = workingDog(first_name=\"Haddie\", last_name = \"Joseph\", \n",
    "                      age=2, biscuits=120)\n",
    "jennys_dog = workingDog(first_name=\"Boy\", last_name = \"Palomino\", \n",
    "                        age=6, biscuits=12)\n",
    "print(\"total dogs after\", workingDog.total_dogs)\n"
   ]
  },
  {
   "cell_type": "markdown",
   "metadata": {
    "slideshow": {
     "slide_type": "slide"
    }
   },
   "source": [
    "# Assign Raise Values\n",
    "\n",
    "Let's assume that we want to on average provide the dogs with a 6% raise"
   ]
  },
  {
   "cell_type": "code",
   "execution_count": 25,
   "metadata": {
    "slideshow": {
     "slide_type": "slide"
    }
   },
   "outputs": [],
   "source": [
    "# Add a class attribute called total_dogs to keep track of the total number of objects\n",
    "class workingDog:\n",
    "    \n",
    "    type = \"Service Animal\"\n",
    "    total_dogs = 0\n",
    "    raise_amt = 1.06\n",
    "    \n",
    "    def __init__(self, first_name, last_name, age, biscuits):\n",
    "        \"\"\"All dogs will have a name (string) and an age (int)\"\"\"\n",
    "        self.first_name = first_name\n",
    "        self.last_name = last_name\n",
    "        self.age = age\n",
    "        self.biscuits = biscuits\n",
    "        \n",
    "        workingDog.total_dogs += 1\n",
    "        \n",
    "    def dog_to_human_years(self):\n",
    "        return self.age * 7\n",
    "    \n",
    "    def annual_buscuits(self):\n",
    "        return self.biscuits * 365\n",
    "    \n",
    "    @classmethod\n",
    "    def set_raise_amt(cls, amount):\n",
    "        cls.raise_amt = amount\n",
    "          \n",
    "    def apply_raise(self):\n",
    "        self.biscuits = int(self.biscuits * self.raise_amt)"
   ]
  },
  {
   "cell_type": "code",
   "execution_count": 26,
   "metadata": {
    "slideshow": {
     "slide_type": "slide"
    }
   },
   "outputs": [],
   "source": [
    "# Reinitialize the objects given the class updates\n",
    "joes_dog = workingDog(first_name=\"James\", last_name = \"McGlinchy\", \n",
    "                      age=10, biscuits=12)\n",
    "maxs_dog = workingDog(first_name=\"Haddie\", last_name = \"Joseph\", \n",
    "                      age=2, biscuits=120)\n",
    "jennys_dog = workingDog(first_name=\"Boy\", last_name = \"Palomino\", \n",
    "                        age=6, biscuits=12)\n"
   ]
  },
  {
   "cell_type": "code",
   "execution_count": 30,
   "metadata": {
    "slideshow": {
     "slide_type": "slide"
    }
   },
   "outputs": [
    {
     "name": "stdout",
     "output_type": "stream",
     "text": [
      "1.1\n",
      "1.1\n",
      "1\n",
      "2\n",
      "2\n",
      "1\n",
      "2\n",
      "2\n",
      "1\n",
      "2\n",
      "2\n"
     ]
    }
   ],
   "source": [
    "workingDog.set_raise_amt(1.10)\n",
    "print(joes_dog.raise_amt)\n",
    "print(maxs_dog.raise_amt)\n",
    "\n",
    "jennys_dog.set_raise_amt(2)\n",
    "print(jennys_dog.raise_amt)\n",
    "print(joes_dog.raise_amt)\n",
    "print(maxs_dog.raise_amt)\n",
    "\n",
    "jennys_dog.raise_amt  = 1\n",
    "print(jennys_dog.raise_amt)\n",
    "print(joes_dog.raise_amt)\n",
    "print(maxs_dog.raise_amt)\n",
    "maxs_dog.kitchen = 5\n",
    "maxs_dog.kitchen\n",
    "\n",
    "workingDog.set_raise_amt(2)\n",
    "print(jennys_dog.raise_amt)\n",
    "print(joes_dog.raise_amt)\n",
    "print(maxs_dog.raise_amt)"
   ]
  },
  {
   "cell_type": "code",
   "execution_count": 31,
   "metadata": {
    "slideshow": {
     "slide_type": "slide"
    }
   },
   "outputs": [
    {
     "name": "stdout",
     "output_type": "stream",
     "text": [
      "Biscuit payment a day was: 12\n",
      "Biscuit payment a day is now: 24\n",
      "Total annual biscuits: 8760\n"
     ]
    }
   ],
   "source": [
    "print(\"Biscuit payment a day was:\", joes_dog.biscuits)\n",
    "joes_dog.apply_raise()\n",
    "print(\"Biscuit payment a day is now:\", joes_dog.biscuits)\n",
    "print(\"Total annual biscuits:\", joes_dog.annual_buscuits())"
   ]
  },
  {
   "cell_type": "code",
   "execution_count": 35,
   "metadata": {
    "slideshow": {
     "slide_type": "slide"
    }
   },
   "outputs": [
    {
     "data": {
      "text/plain": [
       "mappingproxy({'__module__': '__main__',\n",
       "              'type': 'Service Animal',\n",
       "              'total_dogs': 3,\n",
       "              'raise_amt': 2,\n",
       "              '__init__': <function __main__.workingDog.__init__(self, first_name, last_name, age, biscuits)>,\n",
       "              'dog_to_human_years': <function __main__.workingDog.dog_to_human_years(self)>,\n",
       "              'annual_buscuits': <function __main__.workingDog.annual_buscuits(self)>,\n",
       "              'set_raise_amt': <classmethod at 0x2b714c49648>,\n",
       "              'apply_raise': <function __main__.workingDog.apply_raise(self)>,\n",
       "              '__dict__': <attribute '__dict__' of 'workingDog' objects>,\n",
       "              '__weakref__': <attribute '__weakref__' of 'workingDog' objects>,\n",
       "              '__doc__': None})"
      ]
     },
     "execution_count": 35,
     "metadata": {},
     "output_type": "execute_result"
    }
   ],
   "source": [
    "# Explore objects\n",
    "joes_dog.__dict__\n",
    "maxs_dog.__dict__\n",
    "workingDog.__dict__"
   ]
  },
  {
   "cell_type": "markdown",
   "metadata": {
    "slideshow": {
     "slide_type": "slide"
    }
   },
   "source": [
    "## Questions\n",
    "\n",
    "* How do you view a list of all objects associate with the class?\n",
    "* How do you remove objects?"
   ]
  }
 ],
 "metadata": {
  "celltoolbar": "Slideshow",
  "kernelspec": {
   "display_name": "Python 3",
   "language": "python",
   "name": "python3"
  },
  "language_info": {
   "codemirror_mode": {
    "name": "ipython",
    "version": 3
   },
   "file_extension": ".py",
   "mimetype": "text/x-python",
   "name": "python",
   "nbconvert_exporter": "python",
   "pygments_lexer": "ipython3",
   "version": "3.7.7"
  }
 },
 "nbformat": 4,
 "nbformat_minor": 4
}
