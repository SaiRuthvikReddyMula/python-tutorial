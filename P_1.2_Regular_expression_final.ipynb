{
 "cells": [
  {
   "cell_type": "markdown",
   "metadata": {},
   "source": [
    "## Tutorial on regular expression "
   ]
  },
  {
   "cell_type": "markdown",
   "metadata": {},
   "source": [
    "####  What is re ? "
   ]
  },
  {
   "cell_type": "markdown",
   "metadata": {},
   "source": [
    "##### Regular expressions are used to identify whether a pattern exists in a given sequence of characters (string) or not and also to locate the position of the pattern in a corpus of text. They help in manipulating textual data, which is often a pre-requisite for data science projects that involve text analytics."
   ]
  },
  {
   "cell_type": "markdown",
   "metadata": {},
   "source": [
    "#### As any module is imported in python, first we need to import the module re "
   ]
  },
  {
   "cell_type": "code",
   "execution_count": 1,
   "metadata": {},
   "outputs": [],
   "source": [
    "import re "
   ]
  },
  {
   "cell_type": "markdown",
   "metadata": {},
   "source": [
    "\n",
    "## The ‘match’ method"
   ]
  },
  {
   "cell_type": "code",
   "execution_count": 5,
   "metadata": {},
   "outputs": [
    {
     "name": "stdout",
     "output_type": "stream",
     "text": [
      "Matches!\n"
     ]
    }
   ],
   "source": [
    "pattern =r'Python'\n",
    "string1='Python'\n",
    "\n",
    "#print(re.match(pattern,string1))\n",
    "\n",
    "if re.match(pattern,string1) is not None:\n",
    "    print(\"Matches!\")\n",
    "else :\n",
    "    print(\"Does not match .\")"
   ]
  },
  {
   "cell_type": "code",
   "execution_count": 6,
   "metadata": {},
   "outputs": [
    {
     "name": "stdout",
     "output_type": "stream",
     "text": [
      "Does not match .\n"
     ]
    }
   ],
   "source": [
    "pattern =r'Python'\n",
    "string2='python'\n",
    "\n",
    "if re.match(pattern,string2) is not None:\n",
    "    print(\"Matches!\")\n",
    "else :\n",
    "    print(\"Does not match .\")"
   ]
  },
  {
   "cell_type": "markdown",
   "metadata": {},
   "source": [
    "### A complied program \n",
    "#### Instead of repeating the code, we can use compile to create a regex program and use built-in methods."
   ]
  },
  {
   "cell_type": "code",
   "execution_count": 10,
   "metadata": {},
   "outputs": [
    {
     "data": {
      "text/plain": [
       "<re.Match object; span=(0, 6), match='Python'>"
      ]
     },
     "execution_count": 10,
     "metadata": {},
     "output_type": "execute_result"
    }
   ],
   "source": [
    "prog = re.compile(pattern)\n",
    "prog.match(string1)"
   ]
  },
  {
   "cell_type": "markdown",
   "metadata": {},
   "source": [
    "##### Here the span represents between what indexes of the string do we have a match \n"
   ]
  },
  {
   "cell_type": "code",
   "execution_count": 11,
   "metadata": {},
   "outputs": [
    {
     "name": "stdout",
     "output_type": "stream",
     "text": [
      "Matches \n"
     ]
    }
   ],
   "source": [
    "if prog.match(string1)!=None:\n",
    "    print(\"Matches \")\n",
    "else :\n",
    "    print(\"Dosen't match\")"
   ]
  },
  {
   "cell_type": "markdown",
   "metadata": {},
   "source": [
    "### Positional matching"
   ]
  },
  {
   "cell_type": "code",
   "execution_count": 13,
   "metadata": {},
   "outputs": [
    {
     "data": {
      "text/plain": [
       "<re.Match object; span=(0, 1), match='P'>"
      ]
     },
     "execution_count": 13,
     "metadata": {},
     "output_type": "execute_result"
    }
   ],
   "source": [
    "prog= re.compile(r'P')\n",
    "prog.match('Python')"
   ]
  },
  {
   "cell_type": "markdown",
   "metadata": {},
   "source": [
    "##### Here the pos indicates at what index it should strat to find the pattern or expression that is to be matched \n",
    "##### By default the pos is 0 . "
   ]
  },
  {
   "cell_type": "code",
   "execution_count": 17,
   "metadata": {},
   "outputs": [
    {
     "data": {
      "text/plain": [
       "<re.Match object; span=(0, 4), match='thon'>"
      ]
     },
     "execution_count": 17,
     "metadata": {},
     "output_type": "execute_result"
    }
   ],
   "source": [
    "prog=re.compile(r'thon')\n",
    "prog.match('thon123')"
   ]
  },
  {
   "cell_type": "code",
   "execution_count": 20,
   "metadata": {},
   "outputs": [],
   "source": [
    "prog.match('marathon marathon')"
   ]
  },
  {
   "cell_type": "code",
   "execution_count": 19,
   "metadata": {},
   "outputs": [
    {
     "data": {
      "text/plain": [
       "<re.Match object; span=(13, 17), match='thon'>"
      ]
     },
     "execution_count": 19,
     "metadata": {},
     "output_type": "execute_result"
    }
   ],
   "source": [
    "prog.match('marathon marathon',pos=13)"
   ]
  },
  {
   "cell_type": "markdown",
   "metadata": {},
   "source": [
    "### A simple use case "
   ]
  },
  {
   "cell_type": "code",
   "execution_count": 21,
   "metadata": {},
   "outputs": [
    {
     "name": "stdout",
     "output_type": "stream",
     "text": [
      "Spring has the last 3 letters 'ing' \n",
      "Cycling has the last 3 letters 'ing' \n",
      "Ringtone does not have the last 3 letters 'ing' \n"
     ]
    }
   ],
   "source": [
    "prog=re.compile(r'ing')\n",
    "words =['Spring','Cycling','Ringtone']\n",
    "for w in words : \n",
    "    if prog.match(w,pos=len(w)-3)!=None:\n",
    "        print(\"{} has the last 3 letters 'ing' \".format(w))\n",
    "    else :\n",
    "        print(\"{} does not have the last 3 letters 'ing' \".format(w))"
   ]
  },
  {
   "cell_type": "markdown",
   "metadata": {},
   "source": [
    "### The search method"
   ]
  },
  {
   "cell_type": "code",
   "execution_count": 22,
   "metadata": {},
   "outputs": [
    {
     "name": "stdout",
     "output_type": "stream",
     "text": [
      "None\n"
     ]
    }
   ],
   "source": [
    "prog =re.compile(r'ing')\n",
    "if prog.match('Spring')==None:\n",
    "    print(\"None\")"
   ]
  },
  {
   "cell_type": "code",
   "execution_count": 25,
   "metadata": {},
   "outputs": [
    {
     "data": {
      "text/plain": [
       "<re.Match object; span=(3, 6), match='ing'>"
      ]
     },
     "execution_count": 25,
     "metadata": {},
     "output_type": "execute_result"
    }
   ],
   "source": [
    "prog.search('Spring')"
   ]
  },
  {
   "cell_type": "markdown",
   "metadata": {},
   "source": [
    "#### How to get the position of the pattern serached by search method "
   ]
  },
  {
   "cell_type": "code",
   "execution_count": 26,
   "metadata": {},
   "outputs": [
    {
     "name": "stdout",
     "output_type": "stream",
     "text": [
      "The word 'Spring'contains 'ing' in the position 3 - 6\n",
      "The word 'Cycling'contains 'ing' in the position 4 - 7\n",
      "The word 'Ringtone'contains 'ing' in the position 1 - 4\n"
     ]
    }
   ],
   "source": [
    "prog=re.compile(r'ing')\n",
    "words =['Spring','Cycling','Ringtone']\n",
    "for w in words : \n",
    "    mt=prog.search(w)\n",
    "    #Span returns a tuple os start and end positions of the match\n",
    "    start_pos=mt.span()[0]\n",
    "    end_pos=mt.span()[1]\n",
    "    print(\"The word '{}'contains 'ing' in the position {} - {}\".format(w,start_pos,end_pos))"
   ]
  },
  {
   "cell_type": "markdown",
   "metadata": {},
   "source": [
    "#### Search and Replace "
   ]
  },
  {
   "cell_type": "code",
   "execution_count": 27,
   "metadata": {},
   "outputs": [
    {
     "name": "stdout",
     "output_type": "stream",
     "text": [
      "2004959559\n"
     ]
    }
   ],
   "source": [
    "phone = \"2004-959-559 # This is Phone Number\"\n",
    "\n",
    "# Remove anything other than digits\n",
    "# \\d gives digits and \\D gives everything other than digits \n",
    "num = re.sub(r'\\D', \"\", phone)    \n",
    "print (num)"
   ]
  },
  {
   "cell_type": "markdown",
   "metadata": {},
   "source": [
    "#### The findall method "
   ]
  },
  {
   "cell_type": "markdown",
   "metadata": {},
   "source": [
    "###### The serach metod is powerfull, but it only finds the first occurence. To find all the occurences of a pattern we use findall method "
   ]
  },
  {
   "cell_type": "code",
   "execution_count": 31,
   "metadata": {},
   "outputs": [
    {
     "data": {
      "text/plain": [
       "['ing', 'ing']"
      ]
     },
     "execution_count": 31,
     "metadata": {},
     "output_type": "execute_result"
    }
   ],
   "source": [
    "prog=re.compile(r'ing')\n",
    "prog.findall('Ringtone of spring1 in ')"
   ]
  },
  {
   "cell_type": "code",
   "execution_count": 32,
   "metadata": {},
   "outputs": [
    {
     "name": "stdout",
     "output_type": "stream",
     "text": [
      "There are 4 occurence of 'ing ' in the string\n"
     ]
    }
   ],
   "source": [
    "lst_of_ing =prog.findall('The phone is singing the ringtone of spring')\n",
    "print(\"There are {} occurence of 'ing ' in the string\".format(len(lst_of_ing)))"
   ]
  },
  {
   "cell_type": "code",
   "execution_count": 33,
   "metadata": {},
   "outputs": [
    {
     "name": "stdout",
     "output_type": "stream",
     "text": [
      "<re.Match object; span=(14, 17), match='ing'>\n",
      "<re.Match object; span=(17, 20), match='ing'>\n",
      "<re.Match object; span=(26, 29), match='ing'>\n",
      "<re.Match object; span=(40, 43), match='ing'>\n"
     ]
    }
   ],
   "source": [
    "for i in prog.finditer('The phone is singing the ringtone of spring'):\n",
    "    print(i)\n"
   ]
  },
  {
   "cell_type": "markdown",
   "metadata": {},
   "source": [
    "#### Wildcard Matching\n",
    "##### In all the above cases we knew the exact pattern we wanted to search. Using '.' we can get a single character to match with anything. Its like a dont care. "
   ]
  },
  {
   "cell_type": "code",
   "execution_count": 38,
   "metadata": {},
   "outputs": [
    {
     "name": "stdout",
     "output_type": "stream",
     "text": [
      "pyt\n"
     ]
    }
   ],
   "source": [
    "prog=re.compile(r'py.')\n",
    "#print(prog.search('pygmy'))\n",
    "print(prog.search('Jupyter').group())"
   ]
  },
  {
   "cell_type": "markdown",
   "metadata": {},
   "source": [
    "##### Wildcard matches with any character.  What if we want to match with a specific character . Lets say for example a alphabet "
   ]
  },
  {
   "cell_type": "code",
   "execution_count": 84,
   "metadata": {},
   "outputs": [
    {
     "name": "stdout",
     "output_type": "stream",
     "text": [
      "com\n",
      "cam\n"
     ]
    }
   ],
   "source": [
    "prog=re.compile(r'c\\wm')\n",
    "print(prog.search('comedy').group())\n",
    "print(prog.search('camera').group())"
   ]
  },
  {
   "cell_type": "markdown",
   "metadata": {},
   "source": [
    "##### The above case was for alphabets. The things that are omitted in \\w are captured in \\W"
   ]
  },
  {
   "cell_type": "code",
   "execution_count": 48,
   "metadata": {},
   "outputs": [
    {
     "name": "stdout",
     "output_type": "stream",
     "text": [
      "9/11\n",
      "9-11\n",
      "9.11\n"
     ]
    }
   ],
   "source": [
    "prog=re.compile(r'9\\W11')\n",
    "print(prog.search('9/11 was a terrible day!').group())\n",
    "print(prog.search('9-11 was a terrible day!').group())\n",
    "print(prog.search('9.11 was a terrible day!').group())"
   ]
  },
  {
   "cell_type": "markdown",
   "metadata": {},
   "source": [
    "##### Although whitespace can be searched using . operator. But if we want to specifically match whitespace we must use \\s "
   ]
  },
  {
   "cell_type": "code",
   "execution_count": 52,
   "metadata": {},
   "outputs": [
    {
     "name": "stdout",
     "output_type": "stream",
     "text": [
      "Data wrangling\n"
     ]
    }
   ],
   "source": [
    "prog=re.compile(r'Data\\swrangling')\n",
    "print(prog.search(\"Data wrangling is cool\").group())"
   ]
  },
  {
   "cell_type": "markdown",
   "metadata": {},
   "source": [
    "#####  \\d matches numerical digits 0-9"
   ]
  },
  {
   "cell_type": "code",
   "execution_count": 57,
   "metadata": {},
   "outputs": [
    {
     "name": "stdout",
     "output_type": "stream",
     "text": [
      "score was 67\n"
     ]
    }
   ],
   "source": [
    "prog=re.compile(r'score was \\d\\d')\n",
    "print(prog.search(\"My score was 67 \").group())\n",
    "#print(prog.search(\"Your score was 73\").group())"
   ]
  },
  {
   "cell_type": "markdown",
   "metadata": {},
   "source": [
    "##### This can be used in an application where we have entered marks and by mistake lets say we input marks greater than 100"
   ]
  },
  {
   "cell_type": "code",
   "execution_count": 59,
   "metadata": {},
   "outputs": [
    {
     "name": "stdout",
     "output_type": "stream",
     "text": [
      "this is a valid score: 67\n",
      "this is a valid score: 78\n",
      "There is a typo   :  722\n",
      "this is a valid score: 95\n"
     ]
    }
   ],
   "source": [
    "text=\"Jack got 67 marks. I got 78 marks. Ronnie was close to me with marks 722. Sandra scored a whooping 95.\"\n",
    "digit2=re.compile(r'\\d\\d')\n",
    "digit3=re.compile(r'\\d\\d\\d')\n",
    "lines=text.split('.')\n",
    "lines\n",
    "\n",
    "for i,l in enumerate(lines):\n",
    "    if digit3.search(l) is not None:\n",
    "        print(\"There is a typo   : \",digit3.search(l).group())\n",
    "    elif digit2.search(l) is not None:\n",
    "        print(\"this is a valid score:\",digit2.search(l).group())"
   ]
  },
  {
   "cell_type": "markdown",
   "metadata": {},
   "source": [
    "#### Start of a string\n",
    "##### the ^(caret) matches pattern at the begining of a string "
   ]
  },
  {
   "cell_type": "code",
   "execution_count": 61,
   "metadata": {},
   "outputs": [],
   "source": [
    "def print_match(s):\n",
    "    if prog.search(s)==None:\n",
    "        print (\"No match\")\n",
    "    else:\n",
    "        print(prog.search(s).group())"
   ]
  },
  {
   "cell_type": "code",
   "execution_count": 64,
   "metadata": {},
   "outputs": [
    {
     "name": "stdout",
     "output_type": "stream",
     "text": [
      "No match\n",
      "India\n",
      "No match\n"
     ]
    }
   ],
   "source": [
    "prog=re.compile(r'^India')\n",
    "\n",
    "print_match(\"Russia implemnted this law\")\n",
    "print_match(\"India implemnted this law\")\n",
    "print_match(\"Bangladesh and India share a physical boundry\")"
   ]
  },
  {
   "cell_type": "markdown",
   "metadata": {},
   "source": [
    "#### End of a string \n",
    "##### THe $(dollar sign) matches a pattern at the end of the string"
   ]
  },
  {
   "cell_type": "code",
   "execution_count": 65,
   "metadata": {},
   "outputs": [
    {
     "name": "stdout",
     "output_type": "stream",
     "text": [
      "Found a patenet of Apple\n",
      "Patent number : 123456\n",
      "Patent number 987654 is not a patent of Apple\n",
      "Patent number 753159 is not a patent of Apple\n"
     ]
    }
   ],
   "source": [
    "patent_company=re.compile(r'Apple$')\n",
    "patent_number=re.compile(r'\\d\\d\\d\\d\\d\\d')\n",
    "\n",
    "s1=\"Patent no 123456 belongs to Apple\"\n",
    "s2=\"Patent no 987654 belongs to Samsung\"\n",
    "s3=\"Patent no 753159 belongs to One+\"\n",
    "\n",
    "for s in[s1,s2,s3]:\n",
    "    if patent_company.search(s) is not None:\n",
    "        print(\"Found a patenet of Apple\")\n",
    "        print(\"Patent number :\",patent_number.search(s).group())\n",
    "    else :\n",
    "        print(\"Patent number {} is not a patent of Apple\".format(patent_number.search(s).group()))\n",
    "        "
   ]
  },
  {
   "cell_type": "markdown",
   "metadata": {},
   "source": [
    "##### All these techniques match for a single occurence. What if we want to match for more than one occurence"
   ]
  },
  {
   "cell_type": "markdown",
   "metadata": {},
   "source": [
    "#### Matching 0 or more repitions of the regular expression can be done using * "
   ]
  },
  {
   "cell_type": "code",
   "execution_count": 66,
   "metadata": {},
   "outputs": [
    {
     "name": "stdout",
     "output_type": "stream",
     "text": [
      "a\n",
      "ab\n",
      "abbb\n",
      "No match\n",
      "ab\n",
      "abb\n"
     ]
    }
   ],
   "source": [
    "prog=re.compile(r'ab*')\n",
    "\n",
    "print_match(\"a\")\n",
    "print_match(\"ab\")\n",
    "print_match(\"abbb\")\n",
    "print_match(\"b\")\n",
    "print_match(\"bbab\")\n",
    "print_match(\"something_abb_something\")"
   ]
  },
  {
   "cell_type": "markdown",
   "metadata": {},
   "source": [
    "##### Matching 1 or more repetions\n",
    "##### This can be done using + "
   ]
  },
  {
   "cell_type": "code",
   "execution_count": 67,
   "metadata": {},
   "outputs": [
    {
     "name": "stdout",
     "output_type": "stream",
     "text": [
      "No match\n",
      "ab\n",
      "abbb\n",
      "No match\n",
      "ab\n",
      "abb\n"
     ]
    }
   ],
   "source": [
    "prog=re.compile(r'ab+')\n",
    "\n",
    "print_match(\"a\")\n",
    "print_match(\"ab\")\n",
    "print_match(\"abbb\")\n",
    "print_match(\"b\")\n",
    "print_match(\"bbab\")\n",
    "print_match(\"something_abb_something\")"
   ]
  },
  {
   "cell_type": "markdown",
   "metadata": {},
   "source": [
    "##### Matching 0 or 1 repetion\n",
    "##### This can be done using ? "
   ]
  },
  {
   "cell_type": "code",
   "execution_count": 68,
   "metadata": {},
   "outputs": [
    {
     "name": "stdout",
     "output_type": "stream",
     "text": [
      "a\n",
      "ab\n",
      "ab\n",
      "No match\n",
      "ab\n",
      "ab\n"
     ]
    }
   ],
   "source": [
    "prog=re.compile(r'ab?')\n",
    "\n",
    "print_match(\"a\")\n",
    "print_match(\"ab\")\n",
    "print_match(\"abbb\")\n",
    "print_match(\"b\")\n",
    "print_match(\"bbab\")\n",
    "print_match(\"something_abb_something\")\n"
   ]
  },
  {
   "cell_type": "markdown",
   "metadata": {},
   "source": [
    "#### Controlling how many repetions to match "
   ]
  },
  {
   "cell_type": "code",
   "execution_count": 69,
   "metadata": {},
   "outputs": [
    {
     "name": "stdout",
     "output_type": "stream",
     "text": [
      "AAA\n",
      "AAA\n",
      "No match\n"
     ]
    }
   ],
   "source": [
    "prog = re.compile(r'A{3}')\n",
    "\n",
    "print_match(\"ccAAAdd\")\n",
    "print_match(\"ccAAAAdd\")\n",
    "print_match(\"ccAAdd\")"
   ]
  },
  {
   "cell_type": "markdown",
   "metadata": {},
   "source": [
    "#### If we want to match specific number of copies we must do using {m,n} . {m,n} specifies exactly m to n copies of RE to match. Omitting m specifies a lower bound of zero, and omitting n specifies an infinite upper bound.\n"
   ]
  },
  {
   "cell_type": "code",
   "execution_count": 70,
   "metadata": {},
   "outputs": [
    {
     "name": "stdout",
     "output_type": "stream",
     "text": [
      "AAAB\n",
      "No match\n",
      "AAB\n",
      "AAAAB\n"
     ]
    }
   ],
   "source": [
    "prog = re.compile(r'A{2,4}B')\n",
    "\n",
    "print_match(\"ccAAABdd\")\n",
    "print_match(\"ccABdd\")\n",
    "print_match(\"ccAABBBdd\")\n",
    "print_match(\"ccAAAAABdd\")\n"
   ]
  },
  {
   "cell_type": "code",
   "execution_count": 71,
   "metadata": {},
   "outputs": [
    {
     "name": "stdout",
     "output_type": "stream",
     "text": [
      "AAAB\n",
      "AB\n",
      "AAB\n",
      "AAAB\n"
     ]
    }
   ],
   "source": [
    "prog = re.compile(r'A{,3}B')\n",
    "\n",
    "print_match(\"ccAAABdd\")\n",
    "print_match(\"ccABdd\")\n",
    "print_match(\"ccAABBBdd\")\n",
    "print_match(\"ccAAAAABdd\")"
   ]
  },
  {
   "cell_type": "code",
   "execution_count": 72,
   "metadata": {},
   "outputs": [
    {
     "name": "stdout",
     "output_type": "stream",
     "text": [
      "AAAB\n",
      "No match\n",
      "No match\n",
      "AAAAAB\n"
     ]
    }
   ],
   "source": [
    "prog = re.compile(r'A{3,}B')\n",
    "\n",
    "print_match(\"ccAAABdd\")\n",
    "print_match(\"ccABdd\")\n",
    "print_match(\"ccAABBBdd\")\n",
    "print_match(\"ccAAAAABdd\")"
   ]
  },
  {
   "cell_type": "markdown",
   "metadata": {},
   "source": [
    "##### {m,n}? specifies m to n copies of RE to match in a non-greedy fashion."
   ]
  },
  {
   "cell_type": "code",
   "execution_count": 73,
   "metadata": {},
   "outputs": [
    {
     "name": "stdout",
     "output_type": "stream",
     "text": [
      "AAAA\n",
      "AA\n"
     ]
    }
   ],
   "source": [
    "prog=re.compile(r'A{2,4}')\n",
    "print_match(\"AAAAAAA\")\n",
    "\n",
    "prog=re.compile(r'A{2,4}?')\n",
    "print_match(\"AAAAAAA\")\n"
   ]
  },
  {
   "cell_type": "markdown",
   "metadata": {},
   "source": [
    "#### Sets of matching characters [x,y,z] matches x, y, or z in the priority x>y>z"
   ]
  },
  {
   "cell_type": "code",
   "execution_count": 75,
   "metadata": {},
   "outputs": [
    {
     "name": "stdout",
     "output_type": "stream",
     "text": [
      "A\n",
      "A\n",
      "B\n",
      "No match\n"
     ]
    }
   ],
   "source": [
    "prog = re.compile(r'[A,B]')\n",
    "print_match(\"ccAd\")\n",
    "print_match(\"ccABd\")\n",
    "print_match(\"ccXdB\")\n",
    "print_match(\"ccXdZ\")"
   ]
  },
  {
   "cell_type": "markdown",
   "metadata": {},
   "source": [
    "#### Range of characters inside a set \n",
    "\n",
    "##### A range of characters can be matched inside the set. This is one of the most widely used regex techniques. We denote range by using a  \" - \" . For example, a-z or A-Z will match anything between a and z or A and Z i.e. the entire English alphabet.\n",
    "\n",
    "##### Let’s suppose, we want to extract an email id. We put in a pattern matching regex with alphabetical characters + @ + .com. But it cannot catch an email id with some numerical digits in it."
   ]
  },
  {
   "cell_type": "code",
   "execution_count": 76,
   "metadata": {},
   "outputs": [
    {
     "name": "stdout",
     "output_type": "stream",
     "text": [
      "smitshah@gamil.com\n",
      "No match\n"
     ]
    }
   ],
   "source": [
    "prog=re.compile(r'[a-zA-Z]+@[a-zA-Z]+\\.com')\n",
    "\n",
    "print_match(\"My email is smitshah@gmail.com\")\n",
    "print_match(\"My email is smitshah222@gmail.com\")\n"
   ]
  },
  {
   "cell_type": "code",
   "execution_count": 77,
   "metadata": {},
   "outputs": [
    {
     "name": "stdout",
     "output_type": "stream",
     "text": [
      "smitshah@gamil.com\n",
      "smitshah222@gamil.com\n"
     ]
    }
   ],
   "source": [
    "prog=re.compile(r'[a-zA-Z0-9]+@[a-zA-Z]+\\.com')\n",
    "\n",
    "print_match(\"My email is smitshah@gmail.com\")\n",
    "print_match(\"My email is smitshah222@gmail.com\")\n"
   ]
  },
  {
   "cell_type": "code",
   "execution_count": 78,
   "metadata": {},
   "outputs": [
    {
     "name": "stdout",
     "output_type": "stream",
     "text": [
      "smitshah222@gamil.com\n",
      "No match\n"
     ]
    }
   ],
   "source": [
    "prog=re.compile(r'[a-zA-Z0-9]+@+[a-zA-Z]+\\.com')\n",
    "print_match(\"My email is smitshah222@gmail.com\")\n",
    "print_match(\"My email is smitshah222@gmail.org\")\n"
   ]
  },
  {
   "cell_type": "code",
   "execution_count": 79,
   "metadata": {},
   "outputs": [
    {
     "name": "stdout",
     "output_type": "stream",
     "text": [
      "coolguy12@xyz.org\n",
      "coolguy12@xyz.com\n"
     ]
    }
   ],
   "source": [
    "prog=re.compile(r'\\w+@\\w+\\.+[a-z]{2,4}')\n",
    "print_match(\"My email is coolguy12@xyz.org\")\n",
    "print_match(\"My email is coolguy12@xyz.com\")\n"
   ]
  },
  {
   "cell_type": "markdown",
   "metadata": {},
   "source": [
    "#### Combining the power of Regex by OR-ing\n",
    "##### Like any other good computable objects, Regex supports boolean operation to expand its reach and power. OR-ing of individual Regex patterns is particularly interesting.\n",
    "\n",
    "##### For example, if we are interested to find phone numbers containing ‘312’ area code, the following code fails to extract it from the second string."
   ]
  },
  {
   "cell_type": "code",
   "execution_count": 80,
   "metadata": {},
   "outputs": [
    {
     "name": "stdout",
     "output_type": "stream",
     "text": [
      "3121233121\n",
      "No match\n"
     ]
    }
   ],
   "source": [
    "prog=re.compile(r'[0-9]{10}')\n",
    "print_match(\"3121233121\")\n",
    "print_match(\"312-312-3121\")"
   ]
  },
  {
   "cell_type": "code",
   "execution_count": 82,
   "metadata": {},
   "outputs": [
    {
     "name": "stdout",
     "output_type": "stream",
     "text": [
      "3123123121\n",
      "312-123-2121\n",
      "(312)312-3121\n",
      "312.312.3121\n",
      "+22 312-312-3121\n"
     ]
    }
   ],
   "source": [
    "p0=r'\\+*\\d*\\s[0-9]{3}-[0-9]{3}-[0-9]{4}'\n",
    "p1=r'[0-9]{10}'\n",
    "p2=r'[0-9]{3}-[0-9]{3}-[0-9]{4}'\n",
    "p3=r'\\([0-9]{3}\\)[0-9]{3}-[0-9]{4}'\n",
    "p4=r'[0-9]{3}\\.[0-9]{3}\\.[0-9]{4}'\n",
    "pattern =p0+'|'+p1+'|'+p2+'|'+p3+'|'+p4\n",
    "prog=re.compile(pattern)\n",
    "\n",
    "print_match(\"31231231211\")     #this is p1 pattern\n",
    "print_match(\"312-123-2121\")   #this is p2 pattern\n",
    "print_match(\"(312)312-3121\")  #this is p3 pattern\n",
    "print_match(\"312.312.3121\")   # this is p4 pattern\n",
    "print_match(\"+22 312-312-3121\") #this is p0 pattern"
   ]
  },
  {
   "cell_type": "markdown",
   "metadata": {},
   "source": [
    "#### Example of finding a valid phone number wihtin a string"
   ]
  },
  {
   "cell_type": "code",
   "execution_count": 83,
   "metadata": {},
   "outputs": [
    {
     "data": {
      "text/plain": [
       "['312-423-3245', '312.312.1231']"
      ]
     },
     "execution_count": 83,
     "metadata": {},
     "output_type": "execute_result"
    }
   ],
   "source": [
    "## Here are some phone numbers. Some are valid some are not.Pick out the valid phone numbers from the given string.\n",
    "## For this example a valid phone number is a number with area code 312\n",
    "## 312-xxx-xxxx or 312.xxx.xxxx\n",
    "phn_number=\"312-423-3245,456-334-6712,312.312.1231,312.1.1 423.NUMBER\"\n",
    "re.findall('312[-\\.][0-9]{3}[-\\.][0-9]{4}',phn_number)"
   ]
  },
  {
   "cell_type": "code",
   "execution_count": null,
   "metadata": {},
   "outputs": [],
   "source": []
  }
 ],
 "metadata": {
  "kernelspec": {
   "display_name": "Python 3",
   "language": "python",
   "name": "python3"
  },
  "language_info": {
   "codemirror_mode": {
    "name": "ipython",
    "version": 3
   },
   "file_extension": ".py",
   "mimetype": "text/x-python",
   "name": "python",
   "nbconvert_exporter": "python",
   "pygments_lexer": "ipython3",
   "version": "3.7.6"
  }
 },
 "nbformat": 4,
 "nbformat_minor": 4
}
