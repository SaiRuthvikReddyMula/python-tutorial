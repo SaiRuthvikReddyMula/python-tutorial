{
 "cells": [
  {
   "cell_type": "markdown",
   "metadata": {},
   "source": [
    "#### Source : https://morioh.com/p/2e3eecf766fb?f=5c21fb01c16e2556b555ab32"
   ]
  },
  {
   "cell_type": "markdown",
   "metadata": {},
   "source": [
    "### 6.Python collections tricks."
   ]
  },
  {
   "cell_type": "code",
   "execution_count": 10,
   "metadata": {},
   "outputs": [],
   "source": [
    "# Set basic operations."
   ]
  },
  {
   "cell_type": "code",
   "execution_count": 11,
   "metadata": {},
   "outputs": [
    {
     "name": "stdout",
     "output_type": "stream",
     "text": [
      "{1, 2, 3}\n"
     ]
    }
   ],
   "source": [
    "A = {1, 2, 3, 3}\n",
    "print(A)"
   ]
  },
  {
   "cell_type": "code",
   "execution_count": 12,
   "metadata": {},
   "outputs": [
    {
     "name": "stdout",
     "output_type": "stream",
     "text": [
      "{1, 2, 3}\n"
     ]
    },
    {
     "data": {
      "text/plain": [
       "{3, 4, 5, 6, 7}"
      ]
     },
     "execution_count": 12,
     "metadata": {},
     "output_type": "execute_result"
    }
   ],
   "source": [
    "A = set([1, 2, 3])\n",
    "print(A)\n",
    "B = {3, 4, 5, 6, 7}\n",
    "B"
   ]
  },
  {
   "cell_type": "code",
   "execution_count": 13,
   "metadata": {},
   "outputs": [
    {
     "data": {
      "text/plain": [
       "{1, 2, 3, 4, 5, 6, 7}"
      ]
     },
     "execution_count": 13,
     "metadata": {},
     "output_type": "execute_result"
    }
   ],
   "source": [
    "A | B"
   ]
  },
  {
   "cell_type": "code",
   "execution_count": 14,
   "metadata": {},
   "outputs": [
    {
     "data": {
      "text/plain": [
       "{3}"
      ]
     },
     "execution_count": 14,
     "metadata": {},
     "output_type": "execute_result"
    }
   ],
   "source": [
    "A & B"
   ]
  },
  {
   "cell_type": "code",
   "execution_count": 15,
   "metadata": {},
   "outputs": [
    {
     "data": {
      "text/plain": [
       "{1, 2}"
      ]
     },
     "execution_count": 15,
     "metadata": {},
     "output_type": "execute_result"
    }
   ],
   "source": [
    "A - B"
   ]
  },
  {
   "cell_type": "code",
   "execution_count": 16,
   "metadata": {},
   "outputs": [
    {
     "data": {
      "text/plain": [
       "{4, 5, 6, 7}"
      ]
     },
     "execution_count": 16,
     "metadata": {},
     "output_type": "execute_result"
    }
   ],
   "source": [
    "B-A"
   ]
  },
  {
   "cell_type": "code",
   "execution_count": 17,
   "metadata": {},
   "outputs": [
    {
     "data": {
      "text/plain": [
       "{1, 2, 4, 5, 6, 7}"
      ]
     },
     "execution_count": 17,
     "metadata": {},
     "output_type": "execute_result"
    }
   ],
   "source": [
    "A ^ B"
   ]
  },
  {
   "cell_type": "code",
   "execution_count": 18,
   "metadata": {},
   "outputs": [
    {
     "data": {
      "text/plain": [
       "True"
      ]
     },
     "execution_count": 18,
     "metadata": {},
     "output_type": "execute_result"
    }
   ],
   "source": [
    "(A ^ B) == ((A - B) | (B - A))"
   ]
  },
  {
   "cell_type": "code",
   "execution_count": 20,
   "metadata": {},
   "outputs": [],
   "source": [
    "# Counter data structure (an unordered collection where elements are stored as dictionary keys and their counts are stored as dictionary values).\n",
    "import collections\n",
    "\n",
    "A = collections.Counter([1, 1, 2, 2, 3, 3, 3, 3, 4, 5, 6, 7])"
   ]
  },
  {
   "cell_type": "code",
   "execution_count": 21,
   "metadata": {},
   "outputs": [
    {
     "data": {
      "text/plain": [
       "collections.Counter"
      ]
     },
     "execution_count": 21,
     "metadata": {},
     "output_type": "execute_result"
    }
   ],
   "source": [
    "type(A)"
   ]
  },
  {
   "cell_type": "code",
   "execution_count": 22,
   "metadata": {},
   "outputs": [
    {
     "data": {
      "text/plain": [
       "[(3, 4)]"
      ]
     },
     "execution_count": 22,
     "metadata": {},
     "output_type": "execute_result"
    }
   ],
   "source": [
    "A.most_common(1)\n",
    "# A.most_common(3)"
   ]
  },
  {
   "cell_type": "code",
   "execution_count": 23,
   "metadata": {},
   "outputs": [
    {
     "data": {
      "text/plain": [
       "[(3, 4), (1, 2), (2, 2)]"
      ]
     },
     "execution_count": 23,
     "metadata": {},
     "output_type": "execute_result"
    }
   ],
   "source": [
    "A.most_common(3)"
   ]
  },
  {
   "cell_type": "code",
   "execution_count": 31,
   "metadata": {},
   "outputs": [
    {
     "name": "stdout",
     "output_type": "stream",
     "text": [
      "0\n",
      "\n",
      "a\n",
      "[default value]\n",
      "[default value]\n"
     ]
    },
    {
     "data": {
      "text/plain": [
       "[]"
      ]
     },
     "execution_count": 31,
     "metadata": {},
     "output_type": "execute_result"
    }
   ],
   "source": [
    "# Default dictionary structure (a subclass of dictionary that retrieves default value when non-existing key getting accessed).\n",
    "import collections\n",
    "m = collections.defaultdict(int)\n",
    "print(m['a'])\n",
    "\n",
    "m = collections.defaultdict(str)\n",
    "print(m['a'])\n",
    "\n",
    "m['b'] += 'a'\n",
    "print(m['b'])\n",
    "\n",
    "m = collections.defaultdict(lambda: '[default value]')\n",
    "print(m['a'])\n",
    "\n",
    "print(m['b'])\n",
    "\n",
    "m = collections.defaultdict(list)\n",
    "m['a']"
   ]
  },
  {
   "cell_type": "code",
   "execution_count": 38,
   "metadata": {},
   "outputs": [
    {
     "name": "stdout",
     "output_type": "stream",
     "text": [
      "acdeb\n",
      "bacde\n"
     ]
    }
   ],
   "source": [
    "# Ordered dict structure (a subclass of dictionary that keeps order).\n",
    "from collections import OrderedDict\n",
    "\n",
    "d = OrderedDict.fromkeys('abcde')\n",
    "d.move_to_end('b')\n",
    "print(''.join(d.keys()))\n",
    "\n",
    "d.move_to_end('b', last=False)\n",
    "print(''.join(d.keys()))"
   ]
  },
  {
   "cell_type": "code",
   "execution_count": 37,
   "metadata": {},
   "outputs": [
    {
     "data": {
      "text/plain": [
       "OrderedDict([('b', None), ('a', None), ('c', None), ('d', None), ('e', None)])"
      ]
     },
     "execution_count": 37,
     "metadata": {},
     "output_type": "execute_result"
    }
   ],
   "source": [
    "d"
   ]
  },
  {
   "cell_type": "code",
   "execution_count": 51,
   "metadata": {},
   "outputs": [
    {
     "name": "stdout",
     "output_type": "stream",
     "text": [
      "deque([1])\n",
      "deque([2, 1])\n",
      "deque([2, 1, 1])\n",
      "deque([2, 1, 1, 3, 4])\n",
      "deque([6, 5, 2, 1, 1, 3, 4])\n",
      "deque([6, 5, 2, 1, 1, 3])\n",
      "deque([5, 2, 1, 1, 3])\n",
      "deque([1, 1, 3, 5, 2])\n",
      "deque([5, 2, 1, 1, 3])\n",
      "0\n",
      "0, 1\n",
      "0, 1, 2\n",
      "1, 2, 3\n",
      "2, 3, 4\n"
     ]
    }
   ],
   "source": [
    "# Deques structure (_Deques are a generalization of stacks and queues)._\n",
    "import collections\n",
    "Q = collections.deque()\n",
    "Q.append(1)\n",
    "print(Q)\n",
    "\n",
    "Q.appendleft(2)\n",
    "print(Q)\n",
    "\n",
    "Q.append(1)\n",
    "print(Q)\n",
    "\n",
    "Q.extend([3, 4])\n",
    "print(Q)\n",
    "\n",
    "Q.extendleft([5, 6])\n",
    "print(Q)\n",
    "\n",
    "Q.pop()\n",
    "print(Q)\n",
    "\n",
    "Q.popleft()\n",
    "print(Q)\n",
    "\n",
    "Q.rotate(3)\n",
    "print(Q)\n",
    "\n",
    "Q.rotate(-3) \n",
    "print(Q)\n",
    "\n",
    "last_three = collections.deque(maxlen=3)\n",
    "for i in range(5):\n",
    "    last_three.append(i)\n",
    "    print(', '.join(str(x) for x in last_three))"
   ]
  },
  {
   "cell_type": "code",
   "execution_count": 57,
   "metadata": {},
   "outputs": [
    {
     "name": "stdout",
     "output_type": "stream",
     "text": [
      "<class '__main__.Point1'>\n",
      "Point1(x=1.0, y=2.0)\n",
      "1.0\n",
      "2.0\n"
     ]
    }
   ],
   "source": [
    "# Named tuples structure (create tuple-like objects that have fields accessible by attribute lookup as well as being indexable and iterable).\n",
    "import collections\n",
    "Point = collections.namedtuple('Point1', ['x', 'y'])\n",
    "print(Point)\n",
    "p = Point(x=1.0, y=2.0)\n",
    "print(p)\n",
    "\n",
    "print(p.x)\n",
    "print(p.y)"
   ]
  },
  {
   "cell_type": "markdown",
   "metadata": {},
   "source": [
    "### 7. Python other tricks."
   ]
  },
  {
   "cell_type": "code",
   "execution_count": 58,
   "metadata": {},
   "outputs": [
    {
     "data": {
      "text/plain": [
       "UUID('e50795bf-e76e-4c95-834a-08f6f29ebc4f')"
      ]
     },
     "execution_count": 58,
     "metadata": {},
     "output_type": "execute_result"
    }
   ],
   "source": [
    "# Generating uuid.\n",
    "# This creates a randomized 128-bit number that will almost certainly be unique.\n",
    "# In fact, there are over 2¹²² possible UUIDs that can be generated. That’s over five undecillion (or 5,000,000,000,000,000,000,000,000,000,000,000,000).\n",
    "import uuid\n",
    "user_id = uuid.uuid4()\n",
    "user_id "
   ]
  },
  {
   "cell_type": "code",
   "execution_count": 74,
   "metadata": {},
   "outputs": [],
   "source": [
    "# Memoization using LRU cache.\n",
    "import functools\n",
    "\n",
    "@functools.lru_cache(maxsize=128)\n",
    "def fibonacci(n):\n",
    "#     print(\"N : \" ,n)\n",
    "    if n == 0:\n",
    "        return 0\n",
    "    elif n == 1:\n",
    "        return 1\n",
    "    \n",
    "    return fibonacci(n - 1) + fibonacci(n - 2)"
   ]
  },
  {
   "cell_type": "code",
   "execution_count": 76,
   "metadata": {},
   "outputs": [
    {
     "name": "stdout",
     "output_type": "stream",
     "text": [
      "Time Taken for fibbonacci of : 0:00:00\n"
     ]
    }
   ],
   "source": [
    "import datetime\n",
    "n = 100\n",
    "start = datetime.datetime.now()\n",
    "fibonacci(n)\n",
    "end = datetime.datetime.now()\n",
    "print(\"Time Taken for fibbonacci of : {}\".format(end-start))"
   ]
  },
  {
   "cell_type": "code",
   "execution_count": 77,
   "metadata": {},
   "outputs": [],
   "source": [
    "# Suppression of expressions\n",
    "from contextlib import suppress\n",
    "with suppress(ZeroDivisionError):\n",
    "    10/0"
   ]
  },
  {
   "cell_type": "code",
   "execution_count": 85,
   "metadata": {},
   "outputs": [
    {
     "name": "stdout",
     "output_type": "stream",
     "text": [
      "Data\n",
      "data.txt\n",
      ".txt\n",
      "data\n",
      "1,13,21,11,196,75,4,3,34,6,7,8,0,1,2,3,4,5\n",
      "3,42,12,33,766,75,4,55,6,4,3,4,5,6,7,0,11,12\n",
      "1,22,33,11,999,11,2,1,78,0,1,2,9,8,7,1,76,88\n",
      "\n"
     ]
    },
    {
     "data": {
      "text/plain": [
       "True"
      ]
     },
     "execution_count": 85,
     "metadata": {},
     "output_type": "execute_result"
    }
   ],
   "source": [
    "# An elegant way to deal with a file path (3.4≥)\n",
    "from pathlib import Path\n",
    "data_folder = Path(\"Data/\")\n",
    "\n",
    "print(data_folder)\n",
    "\n",
    "# Path calculation and metadata\n",
    "file_to_open = data_folder / \"data.txt\"\n",
    "print(file_to_open.name)\n",
    "\n",
    "print(file_to_open.suffix)\n",
    "\n",
    "print(file_to_open.stem)\n",
    "\n",
    "# Files functions                       \n",
    "f = open(file_to_open)\n",
    "print(f.read())\n",
    "\n",
    "# content of the file                      \n",
    "file_to_open.exists()"
   ]
  },
  {
   "cell_type": "markdown",
   "metadata": {},
   "source": [
    "#### https://towardsdatascience.com/decorators-in-python-9cf8ba95e8e7"
   ]
  },
  {
   "cell_type": "code",
   "execution_count": 88,
   "metadata": {},
   "outputs": [
    {
     "data": {
      "text/plain": [
       "'ham'"
      ]
     },
     "execution_count": 88,
     "metadata": {},
     "output_type": "execute_result"
    }
   ],
   "source": [
    "def ham():\n",
    "    return 'ham'\n",
    "\n",
    "ham()"
   ]
  },
  {
   "cell_type": "code",
   "execution_count": 90,
   "metadata": {},
   "outputs": [
    {
     "data": {
      "text/plain": [
       "'ham sandwich'"
      ]
     },
     "execution_count": 90,
     "metadata": {},
     "output_type": "execute_result"
    }
   ],
   "source": [
    "def add_sandwich(wrapped):\n",
    "    def wrapper():\n",
    "        return wrapped() + ' sandwich'\n",
    "    return wrapper\n",
    "\n",
    "@add_sandwich\n",
    "def ham():\n",
    "    return 'ham'\n",
    "\n",
    "ham()"
   ]
  },
  {
   "cell_type": "code",
   "execution_count": 92,
   "metadata": {},
   "outputs": [
    {
     "data": {
      "text/plain": [
       "'ham1 sandwich'"
      ]
     },
     "execution_count": 92,
     "metadata": {},
     "output_type": "execute_result"
    }
   ],
   "source": [
    "# Creating decorator to separate concerns\n",
    "from functools import wraps\n",
    "\n",
    "def add_sandwich(wrapped):\n",
    "#     @wraps(wrapped)\n",
    "    def wrapper(*args, **kwargs):\n",
    "        return wrapped(*args, **kwargs) + ' sandwich'\n",
    "    return wrapper\n",
    "\n",
    "@add_sandwich\n",
    "def ham(x):\n",
    "    return 'ham' + str(x)\n",
    "\n",
    "ham(1)"
   ]
  },
  {
   "cell_type": "code",
   "execution_count": 93,
   "metadata": {},
   "outputs": [
    {
     "data": {
      "text/plain": [
       "[1, 2, 3, 6]"
      ]
     },
     "execution_count": 93,
     "metadata": {},
     "output_type": "execute_result"
    }
   ],
   "source": [
    "# Using yield to create a simple iterator\n",
    "def foo(lst):\n",
    "    for x in lst:\n",
    "        yield x\n",
    "        yield x*2\n",
    "\n",
    "a = [1, 3]\n",
    "list(foo(a))"
   ]
  },
  {
   "cell_type": "markdown",
   "metadata": {},
   "source": [
    "### Python easter eggs."
   ]
  },
  {
   "cell_type": "code",
   "execution_count": 94,
   "metadata": {},
   "outputs": [],
   "source": [
    "# Anti-gravity\n",
    "import antigravity"
   ]
  },
  {
   "cell_type": "code",
   "execution_count": 95,
   "metadata": {},
   "outputs": [
    {
     "data": {
      "text/plain": [
       "True"
      ]
     },
     "execution_count": 95,
     "metadata": {},
     "output_type": "execute_result"
    }
   ],
   "source": [
    "import webbrowser\n",
    "webbrowser.open(\"https://xkcd.com/353/\")"
   ]
  },
  {
   "cell_type": "code",
   "execution_count": 96,
   "metadata": {},
   "outputs": [
    {
     "name": "stdout",
     "output_type": "stream",
     "text": [
      "The Zen of Python, by Tim Peters\n",
      "\n",
      "Beautiful is better than ugly.\n",
      "Explicit is better than implicit.\n",
      "Simple is better than complex.\n",
      "Complex is better than complicated.\n",
      "Flat is better than nested.\n",
      "Sparse is better than dense.\n",
      "Readability counts.\n",
      "Special cases aren't special enough to break the rules.\n",
      "Although practicality beats purity.\n",
      "Errors should never pass silently.\n",
      "Unless explicitly silenced.\n",
      "In the face of ambiguity, refuse the temptation to guess.\n",
      "There should be one-- and preferably only one --obvious way to do it.\n",
      "Although that way may not be obvious at first unless you're Dutch.\n",
      "Now is better than never.\n",
      "Although never is often better than *right* now.\n",
      "If the implementation is hard to explain, it's a bad idea.\n",
      "If the implementation is easy to explain, it may be a good idea.\n",
      "Namespaces are one honking great idea -- let's do more of those!\n"
     ]
    }
   ],
   "source": [
    "# The Zen of Python\n",
    "import this"
   ]
  },
  {
   "cell_type": "code",
   "execution_count": 99,
   "metadata": {},
   "outputs": [
    {
     "data": {
      "text/plain": [
       "['__add__',\n",
       " '__class__',\n",
       " '__contains__',\n",
       " '__delattr__',\n",
       " '__delitem__',\n",
       " '__dir__',\n",
       " '__doc__',\n",
       " '__eq__',\n",
       " '__format__',\n",
       " '__ge__',\n",
       " '__getattribute__',\n",
       " '__getitem__',\n",
       " '__gt__',\n",
       " '__hash__',\n",
       " '__iadd__',\n",
       " '__imul__',\n",
       " '__init__',\n",
       " '__init_subclass__',\n",
       " '__iter__',\n",
       " '__le__',\n",
       " '__len__',\n",
       " '__lt__',\n",
       " '__mul__',\n",
       " '__ne__',\n",
       " '__new__',\n",
       " '__reduce__',\n",
       " '__reduce_ex__',\n",
       " '__repr__',\n",
       " '__reversed__',\n",
       " '__rmul__',\n",
       " '__setattr__',\n",
       " '__setitem__',\n",
       " '__sizeof__',\n",
       " '__str__',\n",
       " '__subclasshook__',\n",
       " 'append',\n",
       " 'clear',\n",
       " 'copy',\n",
       " 'count',\n",
       " 'extend',\n",
       " 'index',\n",
       " 'insert',\n",
       " 'pop',\n",
       " 'remove',\n",
       " 'reverse',\n",
       " 'sort']"
      ]
     },
     "execution_count": 99,
     "metadata": {},
     "output_type": "execute_result"
    }
   ],
   "source": [
    "# List object attributes\n",
    "dir()\n",
    "\n",
    "dir(['s'])"
   ]
  },
  {
   "cell_type": "markdown",
   "metadata": {},
   "source": [
    "### Assignment Basic Algorithm\n",
    "#### Linear Search Binary Search, Insertion Sort, Bubble Sort, Selection Sort, Counting Sort"
   ]
  },
  {
   "cell_type": "code",
   "execution_count": null,
   "metadata": {},
   "outputs": [],
   "source": []
  }
 ],
 "metadata": {
  "kernelspec": {
   "display_name": "Python 3",
   "language": "python",
   "name": "python3"
  },
  "language_info": {
   "codemirror_mode": {
    "name": "ipython",
    "version": 3
   },
   "file_extension": ".py",
   "mimetype": "text/x-python",
   "name": "python",
   "nbconvert_exporter": "python",
   "pygments_lexer": "ipython3",
   "version": "3.7.7"
  }
 },
 "nbformat": 4,
 "nbformat_minor": 4
}
